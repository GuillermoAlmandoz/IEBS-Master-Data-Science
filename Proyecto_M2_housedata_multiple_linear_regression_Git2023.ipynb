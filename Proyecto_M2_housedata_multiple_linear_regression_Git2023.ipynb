{
  "cells": [
    {
      "cell_type": "markdown",
      "metadata": {
        "id": "view-in-github",
        "colab_type": "text"
      },
      "source": [
        "<a href=\"https://colab.research.google.com/github/GuillermoAlmandoz/IEBS-Master-Data-Science/blob/main/Proyecto_M2_housedata_multiple_linear_regression_Git2023.ipynb\" target=\"_parent\"><img src=\"https://colab.research.google.com/assets/colab-badge.svg\" alt=\"Open In Colab\"/></a>"
      ]
    },
    {
      "cell_type": "markdown",
      "id": "8744ebb8",
      "metadata": {
        "id": "8744ebb8"
      },
      "source": [
        "<img src=\"https://raw.githubusercontent.com/GuillermoAlmandoz/IEBS-Master-Data-Science/main/notebook_banner.png\" width=\"1024\" style=\"float:center\">\n",
        "<div style=\"margin-top:10px; display:flex; align-items:center;\">\n",
        "    <div style=\"float:left; margin-right:10px;vertical-align:middle\">\n",
        "        <a href=\"https://www.linkedin.com/in/Guillermo-Almandoz-Rios/\" targer=\"_blank\">\n",
        "            <img src=\"https://raw.githubusercontent.com/GuillermoAlmandoz/IEBS-Master-Data-Science/main/lkin-logo.png\"/>\n",
        "        </a>\n",
        "    </div>\n",
        "    <div> \n",
        "        Guillermo Almándoz (23/01/2023)\n",
        "    </div>\n",
        " </div>"
      ]
    },
    {
      "cell_type": "markdown",
      "id": "fe8d5064",
      "metadata": {
        "id": "fe8d5064"
      },
      "source": [
        "# Regresión lineal múltiple del dataset `housedata` (Kaggle)"
      ]
    },
    {
      "cell_type": "markdown",
      "id": "ee2d7d00",
      "metadata": {
        "id": "ee2d7d00"
      },
      "source": [
        "En el proyecto implementaremos un modelo de regresión para prececir los los precios de la vivienda.\n",
        "\n",
        "Para el proyecto, utilizaremos el siguiente dataset público que encontramos en Kaggle. https://www.kaggle.com/shree1992/housedata\n",
        "\n",
        "En los modelos de regresión hay que tomar algunas decisiones, como:\n",
        "\n",
        "- ¿con cuántas variables entrenar el modelo?\n",
        "- ¿debemos escalar los datos o no?\n",
        "\n",
        "La segunda pregunta la vamos a responder de forma empírica (mediante prueba y error).\n",
        "\n",
        "Para responder a la primera pregunta vamos realizar un análisis del dataset con el objetivo de formular distintas hipótesis de entrenamiento."
      ]
    },
    {
      "cell_type": "code",
      "execution_count": null,
      "id": "cc011b38",
      "metadata": {
        "id": "cc011b38"
      },
      "outputs": [],
      "source": [
        "import pandas as pd\n",
        "import numpy as np\n",
        "import math\n",
        "import matplotlib.pyplot as plt\n",
        "import seaborn as sns\n",
        "\n",
        "from sklearn.model_selection import train_test_split\n",
        "from sklearn.linear_model import LinearRegression\n",
        "from sklearn.metrics import mean_squared_error\n",
        "from sklearn.preprocessing import MinMaxScaler\n",
        "from sklearn.preprocessing import StandardScaler"
      ]
    },
    {
      "cell_type": "code",
      "execution_count": null,
      "id": "5b9d8743",
      "metadata": {
        "id": "5b9d8743"
      },
      "outputs": [],
      "source": [
        "# Configurar estilos de seaborn\n",
        "sns.set()"
      ]
    },
    {
      "cell_type": "markdown",
      "source": [
        "## Recolección de los datos"
      ],
      "metadata": {
        "id": "PQTYp_QqOCjI"
      },
      "id": "PQTYp_QqOCjI"
    },
    {
      "cell_type": "code",
      "source": [
        "# Recolectamos los datos desde el dataset de la plataforma Kaggle shree1992/housedata\n",
        "# Importamos fichero local previamente descargado el ficero\n",
        "from google.colab import files\n",
        "uploaded=files.upload()"
      ],
      "metadata": {
        "colab": {
          "base_uri": "https://localhost:8080/",
          "height": 74
        },
        "id": "kUOXiU7SOpTw",
        "outputId": "74124df4-29cf-4aa7-9d32-6928cf871bd7"
      },
      "id": "kUOXiU7SOpTw",
      "execution_count": null,
      "outputs": [
        {
          "output_type": "display_data",
          "data": {
            "text/plain": [
              "<IPython.core.display.HTML object>"
            ],
            "text/html": [
              "\n",
              "     <input type=\"file\" id=\"files-2af2add4-e84a-461a-a671-fccf30da8266\" name=\"files[]\" multiple disabled\n",
              "        style=\"border:none\" />\n",
              "     <output id=\"result-2af2add4-e84a-461a-a671-fccf30da8266\">\n",
              "      Upload widget is only available when the cell has been executed in the\n",
              "      current browser session. Please rerun this cell to enable.\n",
              "      </output>\n",
              "      <script>// Copyright 2017 Google LLC\n",
              "//\n",
              "// Licensed under the Apache License, Version 2.0 (the \"License\");\n",
              "// you may not use this file except in compliance with the License.\n",
              "// You may obtain a copy of the License at\n",
              "//\n",
              "//      http://www.apache.org/licenses/LICENSE-2.0\n",
              "//\n",
              "// Unless required by applicable law or agreed to in writing, software\n",
              "// distributed under the License is distributed on an \"AS IS\" BASIS,\n",
              "// WITHOUT WARRANTIES OR CONDITIONS OF ANY KIND, either express or implied.\n",
              "// See the License for the specific language governing permissions and\n",
              "// limitations under the License.\n",
              "\n",
              "/**\n",
              " * @fileoverview Helpers for google.colab Python module.\n",
              " */\n",
              "(function(scope) {\n",
              "function span(text, styleAttributes = {}) {\n",
              "  const element = document.createElement('span');\n",
              "  element.textContent = text;\n",
              "  for (const key of Object.keys(styleAttributes)) {\n",
              "    element.style[key] = styleAttributes[key];\n",
              "  }\n",
              "  return element;\n",
              "}\n",
              "\n",
              "// Max number of bytes which will be uploaded at a time.\n",
              "const MAX_PAYLOAD_SIZE = 100 * 1024;\n",
              "\n",
              "function _uploadFiles(inputId, outputId) {\n",
              "  const steps = uploadFilesStep(inputId, outputId);\n",
              "  const outputElement = document.getElementById(outputId);\n",
              "  // Cache steps on the outputElement to make it available for the next call\n",
              "  // to uploadFilesContinue from Python.\n",
              "  outputElement.steps = steps;\n",
              "\n",
              "  return _uploadFilesContinue(outputId);\n",
              "}\n",
              "\n",
              "// This is roughly an async generator (not supported in the browser yet),\n",
              "// where there are multiple asynchronous steps and the Python side is going\n",
              "// to poll for completion of each step.\n",
              "// This uses a Promise to block the python side on completion of each step,\n",
              "// then passes the result of the previous step as the input to the next step.\n",
              "function _uploadFilesContinue(outputId) {\n",
              "  const outputElement = document.getElementById(outputId);\n",
              "  const steps = outputElement.steps;\n",
              "\n",
              "  const next = steps.next(outputElement.lastPromiseValue);\n",
              "  return Promise.resolve(next.value.promise).then((value) => {\n",
              "    // Cache the last promise value to make it available to the next\n",
              "    // step of the generator.\n",
              "    outputElement.lastPromiseValue = value;\n",
              "    return next.value.response;\n",
              "  });\n",
              "}\n",
              "\n",
              "/**\n",
              " * Generator function which is called between each async step of the upload\n",
              " * process.\n",
              " * @param {string} inputId Element ID of the input file picker element.\n",
              " * @param {string} outputId Element ID of the output display.\n",
              " * @return {!Iterable<!Object>} Iterable of next steps.\n",
              " */\n",
              "function* uploadFilesStep(inputId, outputId) {\n",
              "  const inputElement = document.getElementById(inputId);\n",
              "  inputElement.disabled = false;\n",
              "\n",
              "  const outputElement = document.getElementById(outputId);\n",
              "  outputElement.innerHTML = '';\n",
              "\n",
              "  const pickedPromise = new Promise((resolve) => {\n",
              "    inputElement.addEventListener('change', (e) => {\n",
              "      resolve(e.target.files);\n",
              "    });\n",
              "  });\n",
              "\n",
              "  const cancel = document.createElement('button');\n",
              "  inputElement.parentElement.appendChild(cancel);\n",
              "  cancel.textContent = 'Cancel upload';\n",
              "  const cancelPromise = new Promise((resolve) => {\n",
              "    cancel.onclick = () => {\n",
              "      resolve(null);\n",
              "    };\n",
              "  });\n",
              "\n",
              "  // Wait for the user to pick the files.\n",
              "  const files = yield {\n",
              "    promise: Promise.race([pickedPromise, cancelPromise]),\n",
              "    response: {\n",
              "      action: 'starting',\n",
              "    }\n",
              "  };\n",
              "\n",
              "  cancel.remove();\n",
              "\n",
              "  // Disable the input element since further picks are not allowed.\n",
              "  inputElement.disabled = true;\n",
              "\n",
              "  if (!files) {\n",
              "    return {\n",
              "      response: {\n",
              "        action: 'complete',\n",
              "      }\n",
              "    };\n",
              "  }\n",
              "\n",
              "  for (const file of files) {\n",
              "    const li = document.createElement('li');\n",
              "    li.append(span(file.name, {fontWeight: 'bold'}));\n",
              "    li.append(span(\n",
              "        `(${file.type || 'n/a'}) - ${file.size} bytes, ` +\n",
              "        `last modified: ${\n",
              "            file.lastModifiedDate ? file.lastModifiedDate.toLocaleDateString() :\n",
              "                                    'n/a'} - `));\n",
              "    const percent = span('0% done');\n",
              "    li.appendChild(percent);\n",
              "\n",
              "    outputElement.appendChild(li);\n",
              "\n",
              "    const fileDataPromise = new Promise((resolve) => {\n",
              "      const reader = new FileReader();\n",
              "      reader.onload = (e) => {\n",
              "        resolve(e.target.result);\n",
              "      };\n",
              "      reader.readAsArrayBuffer(file);\n",
              "    });\n",
              "    // Wait for the data to be ready.\n",
              "    let fileData = yield {\n",
              "      promise: fileDataPromise,\n",
              "      response: {\n",
              "        action: 'continue',\n",
              "      }\n",
              "    };\n",
              "\n",
              "    // Use a chunked sending to avoid message size limits. See b/62115660.\n",
              "    let position = 0;\n",
              "    do {\n",
              "      const length = Math.min(fileData.byteLength - position, MAX_PAYLOAD_SIZE);\n",
              "      const chunk = new Uint8Array(fileData, position, length);\n",
              "      position += length;\n",
              "\n",
              "      const base64 = btoa(String.fromCharCode.apply(null, chunk));\n",
              "      yield {\n",
              "        response: {\n",
              "          action: 'append',\n",
              "          file: file.name,\n",
              "          data: base64,\n",
              "        },\n",
              "      };\n",
              "\n",
              "      let percentDone = fileData.byteLength === 0 ?\n",
              "          100 :\n",
              "          Math.round((position / fileData.byteLength) * 100);\n",
              "      percent.textContent = `${percentDone}% done`;\n",
              "\n",
              "    } while (position < fileData.byteLength);\n",
              "  }\n",
              "\n",
              "  // All done.\n",
              "  yield {\n",
              "    response: {\n",
              "      action: 'complete',\n",
              "    }\n",
              "  };\n",
              "}\n",
              "\n",
              "scope.google = scope.google || {};\n",
              "scope.google.colab = scope.google.colab || {};\n",
              "scope.google.colab._files = {\n",
              "  _uploadFiles,\n",
              "  _uploadFilesContinue,\n",
              "};\n",
              "})(self);\n",
              "</script> "
            ]
          },
          "metadata": {}
        },
        {
          "output_type": "stream",
          "name": "stdout",
          "text": [
            "Saving data.csv to data.csv\n"
          ]
        }
      ]
    },
    {
      "cell_type": "markdown",
      "id": "61dfea24",
      "metadata": {
        "id": "61dfea24"
      },
      "source": [
        "## Importación del dataset"
      ]
    },
    {
      "cell_type": "code",
      "execution_count": null,
      "id": "4873bce6",
      "metadata": {
        "id": "4873bce6"
      },
      "outputs": [],
      "source": [
        "housedata = pd.read_csv(\"data.csv\")"
      ]
    },
    {
      "cell_type": "markdown",
      "id": "909843e9",
      "metadata": {
        "id": "909843e9"
      },
      "source": [
        "## Exploración del dataset"
      ]
    },
    {
      "cell_type": "code",
      "execution_count": null,
      "id": "effb3180",
      "metadata": {
        "id": "effb3180",
        "outputId": "18fe46e2-501e-4e9b-ba88-3b085c4e1ad2",
        "colab": {
          "base_uri": "https://localhost:8080/"
        }
      },
      "outputs": [
        {
          "output_type": "execute_result",
          "data": {
            "text/plain": [
              "(4600, 18)"
            ]
          },
          "metadata": {},
          "execution_count": 8
        }
      ],
      "source": [
        "# Tamaño del dataset\n",
        "housedata.shape"
      ]
    },
    {
      "cell_type": "code",
      "execution_count": null,
      "id": "427b6879",
      "metadata": {
        "id": "427b6879",
        "outputId": "c6f5ea5d-1fdf-4035-d6f1-430d955244d7",
        "colab": {
          "base_uri": "https://localhost:8080/"
        }
      },
      "outputs": [
        {
          "output_type": "stream",
          "name": "stdout",
          "text": [
            "<class 'pandas.core.frame.DataFrame'>\n",
            "RangeIndex: 4600 entries, 0 to 4599\n",
            "Data columns (total 18 columns):\n",
            " #   Column         Non-Null Count  Dtype  \n",
            "---  ------         --------------  -----  \n",
            " 0   date           4600 non-null   object \n",
            " 1   price          4600 non-null   float64\n",
            " 2   bedrooms       4600 non-null   float64\n",
            " 3   bathrooms      4600 non-null   float64\n",
            " 4   sqft_living    4600 non-null   int64  \n",
            " 5   sqft_lot       4600 non-null   int64  \n",
            " 6   floors         4600 non-null   float64\n",
            " 7   waterfront     4600 non-null   int64  \n",
            " 8   view           4600 non-null   int64  \n",
            " 9   condition      4600 non-null   int64  \n",
            " 10  sqft_above     4600 non-null   int64  \n",
            " 11  sqft_basement  4600 non-null   int64  \n",
            " 12  yr_built       4600 non-null   int64  \n",
            " 13  yr_renovated   4600 non-null   int64  \n",
            " 14  street         4600 non-null   object \n",
            " 15  city           4600 non-null   object \n",
            " 16  statezip       4600 non-null   object \n",
            " 17  country        4600 non-null   object \n",
            "dtypes: float64(4), int64(9), object(5)\n",
            "memory usage: 647.0+ KB\n"
          ]
        }
      ],
      "source": [
        "# Columnas y tipos de datos\n",
        "housedata.info()"
      ]
    },
    {
      "cell_type": "markdown",
      "id": "2ed83b17",
      "metadata": {
        "id": "2ed83b17"
      },
      "source": [
        "**Variables numéricas**\n",
        "\n",
        "- `price`: precio de la vivienda\n",
        "- `bedrooms`: número de habitaciones de la vivienda\n",
        "- `bathrooms`: número de baños de la vivienda\n",
        "- `sqft_living`: superficie en pies cuadrados de vivienda\n",
        "- `sqft_lot`: precio pies cuadrados lote de la vivienda\n",
        "- `floors`: pisos de la vivienda\n",
        "- `waterfront`: frente al mar de la vivienda\n",
        "- `view`: vista de la vivienda\n",
        "- `condition`: condición/ estado de la vivienda\n",
        "- `sqft_basement`: superficie de sotano en pies cuadrados\n",
        "- `yr_built`: año construcción vivienda\n",
        "- `yr_renovated`: año de restauración de vivienda\n",
        "    \n",
        "**Variables categóricas**\n",
        "\n",
        "- `date`: fecha de analisis de precio de la vivienda\n",
        "- `street`: Indica la calle de la vivienda\n",
        "- `city`: ciudad de ubicación de la vivienda \n",
        "- `statezip`: código postal\n",
        "- `country`: país"
      ]
    },
    {
      "cell_type": "code",
      "execution_count": null,
      "id": "b62466a0",
      "metadata": {
        "id": "b62466a0",
        "outputId": "e95d8a67-1db0-48fa-f84b-3f94907865e7",
        "colab": {
          "base_uri": "https://localhost:8080/",
          "height": 614
        }
      },
      "outputs": [
        {
          "output_type": "execute_result",
          "data": {
            "text/plain": [
              "                count unique                    top  freq           mean  \\\n",
              "date             4600     70    2014-06-23 00:00:00   142            NaN   \n",
              "price          4600.0    NaN                    NaN   NaN  551962.988473   \n",
              "bedrooms       4600.0    NaN                    NaN   NaN        3.40087   \n",
              "bathrooms      4600.0    NaN                    NaN   NaN       2.160815   \n",
              "sqft_living    4600.0    NaN                    NaN   NaN    2139.346957   \n",
              "sqft_lot       4600.0    NaN                    NaN   NaN   14852.516087   \n",
              "floors         4600.0    NaN                    NaN   NaN       1.512065   \n",
              "waterfront     4600.0    NaN                    NaN   NaN       0.007174   \n",
              "view           4600.0    NaN                    NaN   NaN       0.240652   \n",
              "condition      4600.0    NaN                    NaN   NaN       3.451739   \n",
              "sqft_above     4600.0    NaN                    NaN   NaN    1827.265435   \n",
              "sqft_basement  4600.0    NaN                    NaN   NaN     312.081522   \n",
              "yr_built       4600.0    NaN                    NaN   NaN    1970.786304   \n",
              "yr_renovated   4600.0    NaN                    NaN   NaN     808.608261   \n",
              "street           4600   4525  2520 Mulberry Walk NE     4            NaN   \n",
              "city             4600     44                Seattle  1573            NaN   \n",
              "statezip         4600     77               WA 98103   148            NaN   \n",
              "country          4600      1                    USA  4600            NaN   \n",
              "\n",
              "                         std     min       25%            50%       75%  \\\n",
              "date                     NaN     NaN       NaN            NaN       NaN   \n",
              "price          563834.702547     0.0  322875.0  460943.461539  654962.5   \n",
              "bedrooms            0.908848     0.0       3.0            3.0       4.0   \n",
              "bathrooms           0.783781     0.0      1.75           2.25       2.5   \n",
              "sqft_living       963.206916   370.0    1460.0         1980.0    2620.0   \n",
              "sqft_lot        35884.436145   638.0   5000.75         7683.0  11001.25   \n",
              "floors              0.538288     1.0       1.0            1.5       2.0   \n",
              "waterfront          0.084404     0.0       0.0            0.0       0.0   \n",
              "view                0.778405     0.0       0.0            0.0       0.0   \n",
              "condition            0.67723     1.0       3.0            3.0       4.0   \n",
              "sqft_above        862.168977   370.0    1190.0         1590.0    2300.0   \n",
              "sqft_basement     464.137228     0.0       0.0            0.0     610.0   \n",
              "yr_built           29.731848  1900.0    1951.0         1976.0    1997.0   \n",
              "yr_renovated      979.414536     0.0       0.0            0.0    1999.0   \n",
              "street                   NaN     NaN       NaN            NaN       NaN   \n",
              "city                     NaN     NaN       NaN            NaN       NaN   \n",
              "statezip                 NaN     NaN       NaN            NaN       NaN   \n",
              "country                  NaN     NaN       NaN            NaN       NaN   \n",
              "\n",
              "                      max  \n",
              "date                  NaN  \n",
              "price          26590000.0  \n",
              "bedrooms              9.0  \n",
              "bathrooms             8.0  \n",
              "sqft_living       13540.0  \n",
              "sqft_lot        1074218.0  \n",
              "floors                3.5  \n",
              "waterfront            1.0  \n",
              "view                  4.0  \n",
              "condition             5.0  \n",
              "sqft_above         9410.0  \n",
              "sqft_basement      4820.0  \n",
              "yr_built           2014.0  \n",
              "yr_renovated       2014.0  \n",
              "street                NaN  \n",
              "city                  NaN  \n",
              "statezip              NaN  \n",
              "country               NaN  "
            ],
            "text/html": [
              "\n",
              "  <div id=\"df-6abfafda-699e-4822-9adc-b61d2865a8af\">\n",
              "    <div class=\"colab-df-container\">\n",
              "      <div>\n",
              "<style scoped>\n",
              "    .dataframe tbody tr th:only-of-type {\n",
              "        vertical-align: middle;\n",
              "    }\n",
              "\n",
              "    .dataframe tbody tr th {\n",
              "        vertical-align: top;\n",
              "    }\n",
              "\n",
              "    .dataframe thead th {\n",
              "        text-align: right;\n",
              "    }\n",
              "</style>\n",
              "<table border=\"1\" class=\"dataframe\">\n",
              "  <thead>\n",
              "    <tr style=\"text-align: right;\">\n",
              "      <th></th>\n",
              "      <th>count</th>\n",
              "      <th>unique</th>\n",
              "      <th>top</th>\n",
              "      <th>freq</th>\n",
              "      <th>mean</th>\n",
              "      <th>std</th>\n",
              "      <th>min</th>\n",
              "      <th>25%</th>\n",
              "      <th>50%</th>\n",
              "      <th>75%</th>\n",
              "      <th>max</th>\n",
              "    </tr>\n",
              "  </thead>\n",
              "  <tbody>\n",
              "    <tr>\n",
              "      <th>date</th>\n",
              "      <td>4600</td>\n",
              "      <td>70</td>\n",
              "      <td>2014-06-23 00:00:00</td>\n",
              "      <td>142</td>\n",
              "      <td>NaN</td>\n",
              "      <td>NaN</td>\n",
              "      <td>NaN</td>\n",
              "      <td>NaN</td>\n",
              "      <td>NaN</td>\n",
              "      <td>NaN</td>\n",
              "      <td>NaN</td>\n",
              "    </tr>\n",
              "    <tr>\n",
              "      <th>price</th>\n",
              "      <td>4600.0</td>\n",
              "      <td>NaN</td>\n",
              "      <td>NaN</td>\n",
              "      <td>NaN</td>\n",
              "      <td>551962.988473</td>\n",
              "      <td>563834.702547</td>\n",
              "      <td>0.0</td>\n",
              "      <td>322875.0</td>\n",
              "      <td>460943.461539</td>\n",
              "      <td>654962.5</td>\n",
              "      <td>26590000.0</td>\n",
              "    </tr>\n",
              "    <tr>\n",
              "      <th>bedrooms</th>\n",
              "      <td>4600.0</td>\n",
              "      <td>NaN</td>\n",
              "      <td>NaN</td>\n",
              "      <td>NaN</td>\n",
              "      <td>3.40087</td>\n",
              "      <td>0.908848</td>\n",
              "      <td>0.0</td>\n",
              "      <td>3.0</td>\n",
              "      <td>3.0</td>\n",
              "      <td>4.0</td>\n",
              "      <td>9.0</td>\n",
              "    </tr>\n",
              "    <tr>\n",
              "      <th>bathrooms</th>\n",
              "      <td>4600.0</td>\n",
              "      <td>NaN</td>\n",
              "      <td>NaN</td>\n",
              "      <td>NaN</td>\n",
              "      <td>2.160815</td>\n",
              "      <td>0.783781</td>\n",
              "      <td>0.0</td>\n",
              "      <td>1.75</td>\n",
              "      <td>2.25</td>\n",
              "      <td>2.5</td>\n",
              "      <td>8.0</td>\n",
              "    </tr>\n",
              "    <tr>\n",
              "      <th>sqft_living</th>\n",
              "      <td>4600.0</td>\n",
              "      <td>NaN</td>\n",
              "      <td>NaN</td>\n",
              "      <td>NaN</td>\n",
              "      <td>2139.346957</td>\n",
              "      <td>963.206916</td>\n",
              "      <td>370.0</td>\n",
              "      <td>1460.0</td>\n",
              "      <td>1980.0</td>\n",
              "      <td>2620.0</td>\n",
              "      <td>13540.0</td>\n",
              "    </tr>\n",
              "    <tr>\n",
              "      <th>sqft_lot</th>\n",
              "      <td>4600.0</td>\n",
              "      <td>NaN</td>\n",
              "      <td>NaN</td>\n",
              "      <td>NaN</td>\n",
              "      <td>14852.516087</td>\n",
              "      <td>35884.436145</td>\n",
              "      <td>638.0</td>\n",
              "      <td>5000.75</td>\n",
              "      <td>7683.0</td>\n",
              "      <td>11001.25</td>\n",
              "      <td>1074218.0</td>\n",
              "    </tr>\n",
              "    <tr>\n",
              "      <th>floors</th>\n",
              "      <td>4600.0</td>\n",
              "      <td>NaN</td>\n",
              "      <td>NaN</td>\n",
              "      <td>NaN</td>\n",
              "      <td>1.512065</td>\n",
              "      <td>0.538288</td>\n",
              "      <td>1.0</td>\n",
              "      <td>1.0</td>\n",
              "      <td>1.5</td>\n",
              "      <td>2.0</td>\n",
              "      <td>3.5</td>\n",
              "    </tr>\n",
              "    <tr>\n",
              "      <th>waterfront</th>\n",
              "      <td>4600.0</td>\n",
              "      <td>NaN</td>\n",
              "      <td>NaN</td>\n",
              "      <td>NaN</td>\n",
              "      <td>0.007174</td>\n",
              "      <td>0.084404</td>\n",
              "      <td>0.0</td>\n",
              "      <td>0.0</td>\n",
              "      <td>0.0</td>\n",
              "      <td>0.0</td>\n",
              "      <td>1.0</td>\n",
              "    </tr>\n",
              "    <tr>\n",
              "      <th>view</th>\n",
              "      <td>4600.0</td>\n",
              "      <td>NaN</td>\n",
              "      <td>NaN</td>\n",
              "      <td>NaN</td>\n",
              "      <td>0.240652</td>\n",
              "      <td>0.778405</td>\n",
              "      <td>0.0</td>\n",
              "      <td>0.0</td>\n",
              "      <td>0.0</td>\n",
              "      <td>0.0</td>\n",
              "      <td>4.0</td>\n",
              "    </tr>\n",
              "    <tr>\n",
              "      <th>condition</th>\n",
              "      <td>4600.0</td>\n",
              "      <td>NaN</td>\n",
              "      <td>NaN</td>\n",
              "      <td>NaN</td>\n",
              "      <td>3.451739</td>\n",
              "      <td>0.67723</td>\n",
              "      <td>1.0</td>\n",
              "      <td>3.0</td>\n",
              "      <td>3.0</td>\n",
              "      <td>4.0</td>\n",
              "      <td>5.0</td>\n",
              "    </tr>\n",
              "    <tr>\n",
              "      <th>sqft_above</th>\n",
              "      <td>4600.0</td>\n",
              "      <td>NaN</td>\n",
              "      <td>NaN</td>\n",
              "      <td>NaN</td>\n",
              "      <td>1827.265435</td>\n",
              "      <td>862.168977</td>\n",
              "      <td>370.0</td>\n",
              "      <td>1190.0</td>\n",
              "      <td>1590.0</td>\n",
              "      <td>2300.0</td>\n",
              "      <td>9410.0</td>\n",
              "    </tr>\n",
              "    <tr>\n",
              "      <th>sqft_basement</th>\n",
              "      <td>4600.0</td>\n",
              "      <td>NaN</td>\n",
              "      <td>NaN</td>\n",
              "      <td>NaN</td>\n",
              "      <td>312.081522</td>\n",
              "      <td>464.137228</td>\n",
              "      <td>0.0</td>\n",
              "      <td>0.0</td>\n",
              "      <td>0.0</td>\n",
              "      <td>610.0</td>\n",
              "      <td>4820.0</td>\n",
              "    </tr>\n",
              "    <tr>\n",
              "      <th>yr_built</th>\n",
              "      <td>4600.0</td>\n",
              "      <td>NaN</td>\n",
              "      <td>NaN</td>\n",
              "      <td>NaN</td>\n",
              "      <td>1970.786304</td>\n",
              "      <td>29.731848</td>\n",
              "      <td>1900.0</td>\n",
              "      <td>1951.0</td>\n",
              "      <td>1976.0</td>\n",
              "      <td>1997.0</td>\n",
              "      <td>2014.0</td>\n",
              "    </tr>\n",
              "    <tr>\n",
              "      <th>yr_renovated</th>\n",
              "      <td>4600.0</td>\n",
              "      <td>NaN</td>\n",
              "      <td>NaN</td>\n",
              "      <td>NaN</td>\n",
              "      <td>808.608261</td>\n",
              "      <td>979.414536</td>\n",
              "      <td>0.0</td>\n",
              "      <td>0.0</td>\n",
              "      <td>0.0</td>\n",
              "      <td>1999.0</td>\n",
              "      <td>2014.0</td>\n",
              "    </tr>\n",
              "    <tr>\n",
              "      <th>street</th>\n",
              "      <td>4600</td>\n",
              "      <td>4525</td>\n",
              "      <td>2520 Mulberry Walk NE</td>\n",
              "      <td>4</td>\n",
              "      <td>NaN</td>\n",
              "      <td>NaN</td>\n",
              "      <td>NaN</td>\n",
              "      <td>NaN</td>\n",
              "      <td>NaN</td>\n",
              "      <td>NaN</td>\n",
              "      <td>NaN</td>\n",
              "    </tr>\n",
              "    <tr>\n",
              "      <th>city</th>\n",
              "      <td>4600</td>\n",
              "      <td>44</td>\n",
              "      <td>Seattle</td>\n",
              "      <td>1573</td>\n",
              "      <td>NaN</td>\n",
              "      <td>NaN</td>\n",
              "      <td>NaN</td>\n",
              "      <td>NaN</td>\n",
              "      <td>NaN</td>\n",
              "      <td>NaN</td>\n",
              "      <td>NaN</td>\n",
              "    </tr>\n",
              "    <tr>\n",
              "      <th>statezip</th>\n",
              "      <td>4600</td>\n",
              "      <td>77</td>\n",
              "      <td>WA 98103</td>\n",
              "      <td>148</td>\n",
              "      <td>NaN</td>\n",
              "      <td>NaN</td>\n",
              "      <td>NaN</td>\n",
              "      <td>NaN</td>\n",
              "      <td>NaN</td>\n",
              "      <td>NaN</td>\n",
              "      <td>NaN</td>\n",
              "    </tr>\n",
              "    <tr>\n",
              "      <th>country</th>\n",
              "      <td>4600</td>\n",
              "      <td>1</td>\n",
              "      <td>USA</td>\n",
              "      <td>4600</td>\n",
              "      <td>NaN</td>\n",
              "      <td>NaN</td>\n",
              "      <td>NaN</td>\n",
              "      <td>NaN</td>\n",
              "      <td>NaN</td>\n",
              "      <td>NaN</td>\n",
              "      <td>NaN</td>\n",
              "    </tr>\n",
              "  </tbody>\n",
              "</table>\n",
              "</div>\n",
              "      <button class=\"colab-df-convert\" onclick=\"convertToInteractive('df-6abfafda-699e-4822-9adc-b61d2865a8af')\"\n",
              "              title=\"Convert this dataframe to an interactive table.\"\n",
              "              style=\"display:none;\">\n",
              "        \n",
              "  <svg xmlns=\"http://www.w3.org/2000/svg\" height=\"24px\"viewBox=\"0 0 24 24\"\n",
              "       width=\"24px\">\n",
              "    <path d=\"M0 0h24v24H0V0z\" fill=\"none\"/>\n",
              "    <path d=\"M18.56 5.44l.94 2.06.94-2.06 2.06-.94-2.06-.94-.94-2.06-.94 2.06-2.06.94zm-11 1L8.5 8.5l.94-2.06 2.06-.94-2.06-.94L8.5 2.5l-.94 2.06-2.06.94zm10 10l.94 2.06.94-2.06 2.06-.94-2.06-.94-.94-2.06-.94 2.06-2.06.94z\"/><path d=\"M17.41 7.96l-1.37-1.37c-.4-.4-.92-.59-1.43-.59-.52 0-1.04.2-1.43.59L10.3 9.45l-7.72 7.72c-.78.78-.78 2.05 0 2.83L4 21.41c.39.39.9.59 1.41.59.51 0 1.02-.2 1.41-.59l7.78-7.78 2.81-2.81c.8-.78.8-2.07 0-2.86zM5.41 20L4 18.59l7.72-7.72 1.47 1.35L5.41 20z\"/>\n",
              "  </svg>\n",
              "      </button>\n",
              "      \n",
              "  <style>\n",
              "    .colab-df-container {\n",
              "      display:flex;\n",
              "      flex-wrap:wrap;\n",
              "      gap: 12px;\n",
              "    }\n",
              "\n",
              "    .colab-df-convert {\n",
              "      background-color: #E8F0FE;\n",
              "      border: none;\n",
              "      border-radius: 50%;\n",
              "      cursor: pointer;\n",
              "      display: none;\n",
              "      fill: #1967D2;\n",
              "      height: 32px;\n",
              "      padding: 0 0 0 0;\n",
              "      width: 32px;\n",
              "    }\n",
              "\n",
              "    .colab-df-convert:hover {\n",
              "      background-color: #E2EBFA;\n",
              "      box-shadow: 0px 1px 2px rgba(60, 64, 67, 0.3), 0px 1px 3px 1px rgba(60, 64, 67, 0.15);\n",
              "      fill: #174EA6;\n",
              "    }\n",
              "\n",
              "    [theme=dark] .colab-df-convert {\n",
              "      background-color: #3B4455;\n",
              "      fill: #D2E3FC;\n",
              "    }\n",
              "\n",
              "    [theme=dark] .colab-df-convert:hover {\n",
              "      background-color: #434B5C;\n",
              "      box-shadow: 0px 1px 3px 1px rgba(0, 0, 0, 0.15);\n",
              "      filter: drop-shadow(0px 1px 2px rgba(0, 0, 0, 0.3));\n",
              "      fill: #FFFFFF;\n",
              "    }\n",
              "  </style>\n",
              "\n",
              "      <script>\n",
              "        const buttonEl =\n",
              "          document.querySelector('#df-6abfafda-699e-4822-9adc-b61d2865a8af button.colab-df-convert');\n",
              "        buttonEl.style.display =\n",
              "          google.colab.kernel.accessAllowed ? 'block' : 'none';\n",
              "\n",
              "        async function convertToInteractive(key) {\n",
              "          const element = document.querySelector('#df-6abfafda-699e-4822-9adc-b61d2865a8af');\n",
              "          const dataTable =\n",
              "            await google.colab.kernel.invokeFunction('convertToInteractive',\n",
              "                                                     [key], {});\n",
              "          if (!dataTable) return;\n",
              "\n",
              "          const docLinkHtml = 'Like what you see? Visit the ' +\n",
              "            '<a target=\"_blank\" href=https://colab.research.google.com/notebooks/data_table.ipynb>data table notebook</a>'\n",
              "            + ' to learn more about interactive tables.';\n",
              "          element.innerHTML = '';\n",
              "          dataTable['output_type'] = 'display_data';\n",
              "          await google.colab.output.renderOutput(dataTable, element);\n",
              "          const docLink = document.createElement('div');\n",
              "          docLink.innerHTML = docLinkHtml;\n",
              "          element.appendChild(docLink);\n",
              "        }\n",
              "      </script>\n",
              "    </div>\n",
              "  </div>\n",
              "  "
            ]
          },
          "metadata": {},
          "execution_count": 10
        }
      ],
      "source": [
        "# Mostrar estadísticas para las variables numéricas y categóricas\n",
        "housedata.describe(include=\"all\").transpose()"
      ]
    },
    {
      "cell_type": "code",
      "execution_count": null,
      "id": "9a45e5b8",
      "metadata": {
        "id": "9a45e5b8",
        "outputId": "9e9452d0-6b87-4066-f417-75a4c00f87cc",
        "colab": {
          "base_uri": "https://localhost:8080/"
        }
      },
      "outputs": [
        {
          "output_type": "stream",
          "name": "stdout",
          "text": [
            "El precio de la vivienda está entre los 0 y los 26590000\n",
            "La diferencia de los costes de vivienda tiene un orden de magnitud de 7, de 0.00 a 26590000.00\n",
            "El promedio de la superficie dela vivienda en sqft es de 1980, y el máximo de 13540\n"
          ]
        }
      ],
      "source": [
        "price_min = int(housedata.price.min())\n",
        "price_max = int(housedata.price.max())\n",
        "print(f\"El precio de la vivienda está entre los {price_min} y los {price_max}\")\n",
        "price_range = price_max - price_min\n",
        "price_range_magnitude = math.floor(math.log(price_range, 10))\n",
        "print(f\"La diferencia de los costes de vivienda tiene un orden de magnitud de {price_range_magnitude},\"\n",
        "      f\" de {price_min:.2f} a {price_max:.2f}\")\n",
        "\n",
        "sqft_living_median = int(housedata.sqft_living.median())\n",
        "sqft_living_max = int(housedata.sqft_living.max())\n",
        "print(f\"El promedio de la superficie dela vivienda en sqft es de {sqft_living_median}, y el máximo de {sqft_living_max}\")\n",
        "\n"
      ]
    },
    {
      "cell_type": "markdown",
      "id": "67c17424",
      "metadata": {
        "id": "67c17424"
      },
      "source": [
        "## Limpieza del dataset"
      ]
    },
    {
      "cell_type": "code",
      "execution_count": null,
      "id": "a194719f",
      "metadata": {
        "id": "a194719f",
        "outputId": "034869bc-63bd-4b68-ed3e-a043cd8fa6da",
        "colab": {
          "base_uri": "https://localhost:8080/"
        }
      },
      "outputs": [
        {
          "output_type": "stream",
          "name": "stdout",
          "text": [
            "Tamaño del data set original: (4600, 18)\n",
            "Tamaño del dataset sin duplicados: (4600, 18)\n"
          ]
        }
      ],
      "source": [
        "# Registros duplicados\n",
        "shape_pre = housedata.shape\n",
        "shape_post = housedata.drop_duplicates().shape\n",
        "print(\"Tamaño del data set original:\",shape_pre)\n",
        "print(\"Tamaño del dataset sin duplicados:\", shape_post)\n",
        "\n",
        "if shape_pre != shape_post:\n",
        "    print(\"Se han detectado registros duplicados, se van a eliminar\")\n",
        "    housedata = housedata.drop_duplicates()"
      ]
    },
    {
      "cell_type": "code",
      "execution_count": null,
      "id": "4c6496f4",
      "metadata": {
        "id": "4c6496f4",
        "outputId": "4e3159ae-b729-4027-f21d-2fb0a45c0662",
        "colab": {
          "base_uri": "https://localhost:8080/"
        }
      },
      "outputs": [
        {
          "output_type": "execute_result",
          "data": {
            "text/plain": [
              "date             0\n",
              "price            0\n",
              "bedrooms         0\n",
              "bathrooms        0\n",
              "sqft_living      0\n",
              "sqft_lot         0\n",
              "floors           0\n",
              "waterfront       0\n",
              "view             0\n",
              "condition        0\n",
              "sqft_above       0\n",
              "sqft_basement    0\n",
              "yr_built         0\n",
              "yr_renovated     0\n",
              "street           0\n",
              "city             0\n",
              "statezip         0\n",
              "country          0\n",
              "dtype: int64"
            ]
          },
          "metadata": {},
          "execution_count": 13
        }
      ],
      "source": [
        "# Valores nulos\n",
        "housedata.isnull().sum()\n",
        "\n",
        "# No se han detectado valores nulos, por lo tanto no es necesario realizar una limpieza"
      ]
    },
    {
      "cell_type": "code",
      "source": [
        "# eliminar variables, la fecha  y Country no aportan información\n",
        "housedata = housedata.drop('date',axis=1)\n",
        "housedata = housedata.drop('country',axis=1)"
      ],
      "metadata": {
        "id": "_cQgXuPbi8Vy"
      },
      "id": "_cQgXuPbi8Vy",
      "execution_count": null,
      "outputs": []
    },
    {
      "cell_type": "code",
      "source": [
        "# convertir float a int\n",
        "housedata[\"price\"]=housedata[\"price\"].astype(int)"
      ],
      "metadata": {
        "id": "BUsv4SBnjFkW"
      },
      "id": "BUsv4SBnjFkW",
      "execution_count": null,
      "outputs": []
    },
    {
      "cell_type": "code",
      "source": [
        "# completar valores nulos con la media\n",
        "housedata.fillna(housedata.mean())"
      ],
      "metadata": {
        "colab": {
          "base_uri": "https://localhost:8080/",
          "height": 802
        },
        "id": "pa_1C_-gj9jv",
        "outputId": "d579db04-8769-4c13-df42-83e3b982284f"
      },
      "id": "pa_1C_-gj9jv",
      "execution_count": null,
      "outputs": [
        {
          "output_type": "stream",
          "name": "stderr",
          "text": [
            "<ipython-input-16-dbdb4c333128>:2: FutureWarning: Dropping of nuisance columns in DataFrame reductions (with 'numeric_only=None') is deprecated; in a future version this will raise TypeError.  Select only valid columns before calling the reduction.\n",
            "  housedata.fillna(housedata.mean())\n"
          ]
        },
        {
          "output_type": "execute_result",
          "data": {
            "text/plain": [
              "        price  bedrooms  bathrooms  sqft_living  sqft_lot  floors  waterfront  \\\n",
              "0      313000       3.0       1.50         1340      7912     1.5           0   \n",
              "1     2384000       5.0       2.50         3650      9050     2.0           0   \n",
              "2      342000       3.0       2.00         1930     11947     1.0           0   \n",
              "3      420000       3.0       2.25         2000      8030     1.0           0   \n",
              "4      550000       4.0       2.50         1940     10500     1.0           0   \n",
              "...       ...       ...        ...          ...       ...     ...         ...   \n",
              "4595   308166       3.0       1.75         1510      6360     1.0           0   \n",
              "4596   534333       3.0       2.50         1460      7573     2.0           0   \n",
              "4597   416904       3.0       2.50         3010      7014     2.0           0   \n",
              "4598   203400       4.0       2.00         2090      6630     1.0           0   \n",
              "4599   220600       3.0       2.50         1490      8102     2.0           0   \n",
              "\n",
              "      view  condition  sqft_above  sqft_basement  yr_built  yr_renovated  \\\n",
              "0        0          3        1340              0      1955          2005   \n",
              "1        4          5        3370            280      1921             0   \n",
              "2        0          4        1930              0      1966             0   \n",
              "3        0          4        1000           1000      1963             0   \n",
              "4        0          4        1140            800      1976          1992   \n",
              "...    ...        ...         ...            ...       ...           ...   \n",
              "4595     0          4        1510              0      1954          1979   \n",
              "4596     0          3        1460              0      1983          2009   \n",
              "4597     0          3        3010              0      2009             0   \n",
              "4598     0          3        1070           1020      1974             0   \n",
              "4599     0          4        1490              0      1990             0   \n",
              "\n",
              "                        street       city  statezip  \n",
              "0         18810 Densmore Ave N  Shoreline  WA 98133  \n",
              "1              709 W Blaine St    Seattle  WA 98119  \n",
              "2     26206-26214 143rd Ave SE       Kent  WA 98042  \n",
              "3              857 170th Pl NE   Bellevue  WA 98008  \n",
              "4            9105 170th Ave NE    Redmond  WA 98052  \n",
              "...                        ...        ...       ...  \n",
              "4595            501 N 143rd St    Seattle  WA 98133  \n",
              "4596          14855 SE 10th Pl   Bellevue  WA 98007  \n",
              "4597          759 Ilwaco Pl NE     Renton  WA 98059  \n",
              "4598         5148 S Creston St    Seattle  WA 98178  \n",
              "4599         18717 SE 258th St  Covington  WA 98042  \n",
              "\n",
              "[4600 rows x 16 columns]"
            ],
            "text/html": [
              "\n",
              "  <div id=\"df-c1d44291-67e3-48fc-a7ce-e15d2620bc7d\">\n",
              "    <div class=\"colab-df-container\">\n",
              "      <div>\n",
              "<style scoped>\n",
              "    .dataframe tbody tr th:only-of-type {\n",
              "        vertical-align: middle;\n",
              "    }\n",
              "\n",
              "    .dataframe tbody tr th {\n",
              "        vertical-align: top;\n",
              "    }\n",
              "\n",
              "    .dataframe thead th {\n",
              "        text-align: right;\n",
              "    }\n",
              "</style>\n",
              "<table border=\"1\" class=\"dataframe\">\n",
              "  <thead>\n",
              "    <tr style=\"text-align: right;\">\n",
              "      <th></th>\n",
              "      <th>price</th>\n",
              "      <th>bedrooms</th>\n",
              "      <th>bathrooms</th>\n",
              "      <th>sqft_living</th>\n",
              "      <th>sqft_lot</th>\n",
              "      <th>floors</th>\n",
              "      <th>waterfront</th>\n",
              "      <th>view</th>\n",
              "      <th>condition</th>\n",
              "      <th>sqft_above</th>\n",
              "      <th>sqft_basement</th>\n",
              "      <th>yr_built</th>\n",
              "      <th>yr_renovated</th>\n",
              "      <th>street</th>\n",
              "      <th>city</th>\n",
              "      <th>statezip</th>\n",
              "    </tr>\n",
              "  </thead>\n",
              "  <tbody>\n",
              "    <tr>\n",
              "      <th>0</th>\n",
              "      <td>313000</td>\n",
              "      <td>3.0</td>\n",
              "      <td>1.50</td>\n",
              "      <td>1340</td>\n",
              "      <td>7912</td>\n",
              "      <td>1.5</td>\n",
              "      <td>0</td>\n",
              "      <td>0</td>\n",
              "      <td>3</td>\n",
              "      <td>1340</td>\n",
              "      <td>0</td>\n",
              "      <td>1955</td>\n",
              "      <td>2005</td>\n",
              "      <td>18810 Densmore Ave N</td>\n",
              "      <td>Shoreline</td>\n",
              "      <td>WA 98133</td>\n",
              "    </tr>\n",
              "    <tr>\n",
              "      <th>1</th>\n",
              "      <td>2384000</td>\n",
              "      <td>5.0</td>\n",
              "      <td>2.50</td>\n",
              "      <td>3650</td>\n",
              "      <td>9050</td>\n",
              "      <td>2.0</td>\n",
              "      <td>0</td>\n",
              "      <td>4</td>\n",
              "      <td>5</td>\n",
              "      <td>3370</td>\n",
              "      <td>280</td>\n",
              "      <td>1921</td>\n",
              "      <td>0</td>\n",
              "      <td>709 W Blaine St</td>\n",
              "      <td>Seattle</td>\n",
              "      <td>WA 98119</td>\n",
              "    </tr>\n",
              "    <tr>\n",
              "      <th>2</th>\n",
              "      <td>342000</td>\n",
              "      <td>3.0</td>\n",
              "      <td>2.00</td>\n",
              "      <td>1930</td>\n",
              "      <td>11947</td>\n",
              "      <td>1.0</td>\n",
              "      <td>0</td>\n",
              "      <td>0</td>\n",
              "      <td>4</td>\n",
              "      <td>1930</td>\n",
              "      <td>0</td>\n",
              "      <td>1966</td>\n",
              "      <td>0</td>\n",
              "      <td>26206-26214 143rd Ave SE</td>\n",
              "      <td>Kent</td>\n",
              "      <td>WA 98042</td>\n",
              "    </tr>\n",
              "    <tr>\n",
              "      <th>3</th>\n",
              "      <td>420000</td>\n",
              "      <td>3.0</td>\n",
              "      <td>2.25</td>\n",
              "      <td>2000</td>\n",
              "      <td>8030</td>\n",
              "      <td>1.0</td>\n",
              "      <td>0</td>\n",
              "      <td>0</td>\n",
              "      <td>4</td>\n",
              "      <td>1000</td>\n",
              "      <td>1000</td>\n",
              "      <td>1963</td>\n",
              "      <td>0</td>\n",
              "      <td>857 170th Pl NE</td>\n",
              "      <td>Bellevue</td>\n",
              "      <td>WA 98008</td>\n",
              "    </tr>\n",
              "    <tr>\n",
              "      <th>4</th>\n",
              "      <td>550000</td>\n",
              "      <td>4.0</td>\n",
              "      <td>2.50</td>\n",
              "      <td>1940</td>\n",
              "      <td>10500</td>\n",
              "      <td>1.0</td>\n",
              "      <td>0</td>\n",
              "      <td>0</td>\n",
              "      <td>4</td>\n",
              "      <td>1140</td>\n",
              "      <td>800</td>\n",
              "      <td>1976</td>\n",
              "      <td>1992</td>\n",
              "      <td>9105 170th Ave NE</td>\n",
              "      <td>Redmond</td>\n",
              "      <td>WA 98052</td>\n",
              "    </tr>\n",
              "    <tr>\n",
              "      <th>...</th>\n",
              "      <td>...</td>\n",
              "      <td>...</td>\n",
              "      <td>...</td>\n",
              "      <td>...</td>\n",
              "      <td>...</td>\n",
              "      <td>...</td>\n",
              "      <td>...</td>\n",
              "      <td>...</td>\n",
              "      <td>...</td>\n",
              "      <td>...</td>\n",
              "      <td>...</td>\n",
              "      <td>...</td>\n",
              "      <td>...</td>\n",
              "      <td>...</td>\n",
              "      <td>...</td>\n",
              "      <td>...</td>\n",
              "    </tr>\n",
              "    <tr>\n",
              "      <th>4595</th>\n",
              "      <td>308166</td>\n",
              "      <td>3.0</td>\n",
              "      <td>1.75</td>\n",
              "      <td>1510</td>\n",
              "      <td>6360</td>\n",
              "      <td>1.0</td>\n",
              "      <td>0</td>\n",
              "      <td>0</td>\n",
              "      <td>4</td>\n",
              "      <td>1510</td>\n",
              "      <td>0</td>\n",
              "      <td>1954</td>\n",
              "      <td>1979</td>\n",
              "      <td>501 N 143rd St</td>\n",
              "      <td>Seattle</td>\n",
              "      <td>WA 98133</td>\n",
              "    </tr>\n",
              "    <tr>\n",
              "      <th>4596</th>\n",
              "      <td>534333</td>\n",
              "      <td>3.0</td>\n",
              "      <td>2.50</td>\n",
              "      <td>1460</td>\n",
              "      <td>7573</td>\n",
              "      <td>2.0</td>\n",
              "      <td>0</td>\n",
              "      <td>0</td>\n",
              "      <td>3</td>\n",
              "      <td>1460</td>\n",
              "      <td>0</td>\n",
              "      <td>1983</td>\n",
              "      <td>2009</td>\n",
              "      <td>14855 SE 10th Pl</td>\n",
              "      <td>Bellevue</td>\n",
              "      <td>WA 98007</td>\n",
              "    </tr>\n",
              "    <tr>\n",
              "      <th>4597</th>\n",
              "      <td>416904</td>\n",
              "      <td>3.0</td>\n",
              "      <td>2.50</td>\n",
              "      <td>3010</td>\n",
              "      <td>7014</td>\n",
              "      <td>2.0</td>\n",
              "      <td>0</td>\n",
              "      <td>0</td>\n",
              "      <td>3</td>\n",
              "      <td>3010</td>\n",
              "      <td>0</td>\n",
              "      <td>2009</td>\n",
              "      <td>0</td>\n",
              "      <td>759 Ilwaco Pl NE</td>\n",
              "      <td>Renton</td>\n",
              "      <td>WA 98059</td>\n",
              "    </tr>\n",
              "    <tr>\n",
              "      <th>4598</th>\n",
              "      <td>203400</td>\n",
              "      <td>4.0</td>\n",
              "      <td>2.00</td>\n",
              "      <td>2090</td>\n",
              "      <td>6630</td>\n",
              "      <td>1.0</td>\n",
              "      <td>0</td>\n",
              "      <td>0</td>\n",
              "      <td>3</td>\n",
              "      <td>1070</td>\n",
              "      <td>1020</td>\n",
              "      <td>1974</td>\n",
              "      <td>0</td>\n",
              "      <td>5148 S Creston St</td>\n",
              "      <td>Seattle</td>\n",
              "      <td>WA 98178</td>\n",
              "    </tr>\n",
              "    <tr>\n",
              "      <th>4599</th>\n",
              "      <td>220600</td>\n",
              "      <td>3.0</td>\n",
              "      <td>2.50</td>\n",
              "      <td>1490</td>\n",
              "      <td>8102</td>\n",
              "      <td>2.0</td>\n",
              "      <td>0</td>\n",
              "      <td>0</td>\n",
              "      <td>4</td>\n",
              "      <td>1490</td>\n",
              "      <td>0</td>\n",
              "      <td>1990</td>\n",
              "      <td>0</td>\n",
              "      <td>18717 SE 258th St</td>\n",
              "      <td>Covington</td>\n",
              "      <td>WA 98042</td>\n",
              "    </tr>\n",
              "  </tbody>\n",
              "</table>\n",
              "<p>4600 rows × 16 columns</p>\n",
              "</div>\n",
              "      <button class=\"colab-df-convert\" onclick=\"convertToInteractive('df-c1d44291-67e3-48fc-a7ce-e15d2620bc7d')\"\n",
              "              title=\"Convert this dataframe to an interactive table.\"\n",
              "              style=\"display:none;\">\n",
              "        \n",
              "  <svg xmlns=\"http://www.w3.org/2000/svg\" height=\"24px\"viewBox=\"0 0 24 24\"\n",
              "       width=\"24px\">\n",
              "    <path d=\"M0 0h24v24H0V0z\" fill=\"none\"/>\n",
              "    <path d=\"M18.56 5.44l.94 2.06.94-2.06 2.06-.94-2.06-.94-.94-2.06-.94 2.06-2.06.94zm-11 1L8.5 8.5l.94-2.06 2.06-.94-2.06-.94L8.5 2.5l-.94 2.06-2.06.94zm10 10l.94 2.06.94-2.06 2.06-.94-2.06-.94-.94-2.06-.94 2.06-2.06.94z\"/><path d=\"M17.41 7.96l-1.37-1.37c-.4-.4-.92-.59-1.43-.59-.52 0-1.04.2-1.43.59L10.3 9.45l-7.72 7.72c-.78.78-.78 2.05 0 2.83L4 21.41c.39.39.9.59 1.41.59.51 0 1.02-.2 1.41-.59l7.78-7.78 2.81-2.81c.8-.78.8-2.07 0-2.86zM5.41 20L4 18.59l7.72-7.72 1.47 1.35L5.41 20z\"/>\n",
              "  </svg>\n",
              "      </button>\n",
              "      \n",
              "  <style>\n",
              "    .colab-df-container {\n",
              "      display:flex;\n",
              "      flex-wrap:wrap;\n",
              "      gap: 12px;\n",
              "    }\n",
              "\n",
              "    .colab-df-convert {\n",
              "      background-color: #E8F0FE;\n",
              "      border: none;\n",
              "      border-radius: 50%;\n",
              "      cursor: pointer;\n",
              "      display: none;\n",
              "      fill: #1967D2;\n",
              "      height: 32px;\n",
              "      padding: 0 0 0 0;\n",
              "      width: 32px;\n",
              "    }\n",
              "\n",
              "    .colab-df-convert:hover {\n",
              "      background-color: #E2EBFA;\n",
              "      box-shadow: 0px 1px 2px rgba(60, 64, 67, 0.3), 0px 1px 3px 1px rgba(60, 64, 67, 0.15);\n",
              "      fill: #174EA6;\n",
              "    }\n",
              "\n",
              "    [theme=dark] .colab-df-convert {\n",
              "      background-color: #3B4455;\n",
              "      fill: #D2E3FC;\n",
              "    }\n",
              "\n",
              "    [theme=dark] .colab-df-convert:hover {\n",
              "      background-color: #434B5C;\n",
              "      box-shadow: 0px 1px 3px 1px rgba(0, 0, 0, 0.15);\n",
              "      filter: drop-shadow(0px 1px 2px rgba(0, 0, 0, 0.3));\n",
              "      fill: #FFFFFF;\n",
              "    }\n",
              "  </style>\n",
              "\n",
              "      <script>\n",
              "        const buttonEl =\n",
              "          document.querySelector('#df-c1d44291-67e3-48fc-a7ce-e15d2620bc7d button.colab-df-convert');\n",
              "        buttonEl.style.display =\n",
              "          google.colab.kernel.accessAllowed ? 'block' : 'none';\n",
              "\n",
              "        async function convertToInteractive(key) {\n",
              "          const element = document.querySelector('#df-c1d44291-67e3-48fc-a7ce-e15d2620bc7d');\n",
              "          const dataTable =\n",
              "            await google.colab.kernel.invokeFunction('convertToInteractive',\n",
              "                                                     [key], {});\n",
              "          if (!dataTable) return;\n",
              "\n",
              "          const docLinkHtml = 'Like what you see? Visit the ' +\n",
              "            '<a target=\"_blank\" href=https://colab.research.google.com/notebooks/data_table.ipynb>data table notebook</a>'\n",
              "            + ' to learn more about interactive tables.';\n",
              "          element.innerHTML = '';\n",
              "          dataTable['output_type'] = 'display_data';\n",
              "          await google.colab.output.renderOutput(dataTable, element);\n",
              "          const docLink = document.createElement('div');\n",
              "          docLink.innerHTML = docLinkHtml;\n",
              "          element.appendChild(docLink);\n",
              "        }\n",
              "      </script>\n",
              "    </div>\n",
              "  </div>\n",
              "  "
            ]
          },
          "metadata": {},
          "execution_count": 16
        }
      ]
    },
    {
      "cell_type": "code",
      "source": [
        "# completar valores nulos con el valor más frecuente\n",
        "housedata['bedrooms'] = housedata['bedrooms'].fillna(housedata['bedrooms'].mode()[0])"
      ],
      "metadata": {
        "id": "RlwMs2Vwk9sX"
      },
      "id": "RlwMs2Vwk9sX",
      "execution_count": null,
      "outputs": []
    },
    {
      "cell_type": "code",
      "source": [
        "# Mostrar estadísticas para las variables numéricas y categóricas\n",
        "housedata.describe(include=\"all\").transpose()"
      ],
      "metadata": {
        "colab": {
          "base_uri": "https://localhost:8080/",
          "height": 551
        },
        "id": "lQvGjUUKlOoD",
        "outputId": "d2992fa2-a56b-4985-f942-5db7767ef402"
      },
      "id": "lQvGjUUKlOoD",
      "execution_count": null,
      "outputs": [
        {
          "output_type": "execute_result",
          "data": {
            "text/plain": [
              "                count unique                    top  freq           mean  \\\n",
              "price          4600.0    NaN                    NaN   NaN  551962.975435   \n",
              "bedrooms       4600.0    NaN                    NaN   NaN        3.40087   \n",
              "bathrooms      4600.0    NaN                    NaN   NaN       2.160815   \n",
              "sqft_living    4600.0    NaN                    NaN   NaN    2139.346957   \n",
              "sqft_lot       4600.0    NaN                    NaN   NaN   14852.516087   \n",
              "floors         4600.0    NaN                    NaN   NaN       1.512065   \n",
              "waterfront     4600.0    NaN                    NaN   NaN       0.007174   \n",
              "view           4600.0    NaN                    NaN   NaN       0.240652   \n",
              "condition      4600.0    NaN                    NaN   NaN       3.451739   \n",
              "sqft_above     4600.0    NaN                    NaN   NaN    1827.265435   \n",
              "sqft_basement  4600.0    NaN                    NaN   NaN     312.081522   \n",
              "yr_built       4600.0    NaN                    NaN   NaN    1970.786304   \n",
              "yr_renovated   4600.0    NaN                    NaN   NaN     808.608261   \n",
              "street           4600   4525  2520 Mulberry Walk NE     4            NaN   \n",
              "city             4600     44                Seattle  1573            NaN   \n",
              "statezip         4600     77               WA 98103   148            NaN   \n",
              "\n",
              "                         std     min       25%       50%       75%         max  \n",
              "price          563834.706028     0.0  322875.0  460943.0  654962.5  26590000.0  \n",
              "bedrooms            0.908848     0.0       3.0       3.0       4.0         9.0  \n",
              "bathrooms           0.783781     0.0      1.75      2.25       2.5         8.0  \n",
              "sqft_living       963.206916   370.0    1460.0    1980.0    2620.0     13540.0  \n",
              "sqft_lot        35884.436145   638.0   5000.75    7683.0  11001.25   1074218.0  \n",
              "floors              0.538288     1.0       1.0       1.5       2.0         3.5  \n",
              "waterfront          0.084404     0.0       0.0       0.0       0.0         1.0  \n",
              "view                0.778405     0.0       0.0       0.0       0.0         4.0  \n",
              "condition            0.67723     1.0       3.0       3.0       4.0         5.0  \n",
              "sqft_above        862.168977   370.0    1190.0    1590.0    2300.0      9410.0  \n",
              "sqft_basement     464.137228     0.0       0.0       0.0     610.0      4820.0  \n",
              "yr_built           29.731848  1900.0    1951.0    1976.0    1997.0      2014.0  \n",
              "yr_renovated      979.414536     0.0       0.0       0.0    1999.0      2014.0  \n",
              "street                   NaN     NaN       NaN       NaN       NaN         NaN  \n",
              "city                     NaN     NaN       NaN       NaN       NaN         NaN  \n",
              "statezip                 NaN     NaN       NaN       NaN       NaN         NaN  "
            ],
            "text/html": [
              "\n",
              "  <div id=\"df-8646b270-393f-44d1-8276-27824a0e7050\">\n",
              "    <div class=\"colab-df-container\">\n",
              "      <div>\n",
              "<style scoped>\n",
              "    .dataframe tbody tr th:only-of-type {\n",
              "        vertical-align: middle;\n",
              "    }\n",
              "\n",
              "    .dataframe tbody tr th {\n",
              "        vertical-align: top;\n",
              "    }\n",
              "\n",
              "    .dataframe thead th {\n",
              "        text-align: right;\n",
              "    }\n",
              "</style>\n",
              "<table border=\"1\" class=\"dataframe\">\n",
              "  <thead>\n",
              "    <tr style=\"text-align: right;\">\n",
              "      <th></th>\n",
              "      <th>count</th>\n",
              "      <th>unique</th>\n",
              "      <th>top</th>\n",
              "      <th>freq</th>\n",
              "      <th>mean</th>\n",
              "      <th>std</th>\n",
              "      <th>min</th>\n",
              "      <th>25%</th>\n",
              "      <th>50%</th>\n",
              "      <th>75%</th>\n",
              "      <th>max</th>\n",
              "    </tr>\n",
              "  </thead>\n",
              "  <tbody>\n",
              "    <tr>\n",
              "      <th>price</th>\n",
              "      <td>4600.0</td>\n",
              "      <td>NaN</td>\n",
              "      <td>NaN</td>\n",
              "      <td>NaN</td>\n",
              "      <td>551962.975435</td>\n",
              "      <td>563834.706028</td>\n",
              "      <td>0.0</td>\n",
              "      <td>322875.0</td>\n",
              "      <td>460943.0</td>\n",
              "      <td>654962.5</td>\n",
              "      <td>26590000.0</td>\n",
              "    </tr>\n",
              "    <tr>\n",
              "      <th>bedrooms</th>\n",
              "      <td>4600.0</td>\n",
              "      <td>NaN</td>\n",
              "      <td>NaN</td>\n",
              "      <td>NaN</td>\n",
              "      <td>3.40087</td>\n",
              "      <td>0.908848</td>\n",
              "      <td>0.0</td>\n",
              "      <td>3.0</td>\n",
              "      <td>3.0</td>\n",
              "      <td>4.0</td>\n",
              "      <td>9.0</td>\n",
              "    </tr>\n",
              "    <tr>\n",
              "      <th>bathrooms</th>\n",
              "      <td>4600.0</td>\n",
              "      <td>NaN</td>\n",
              "      <td>NaN</td>\n",
              "      <td>NaN</td>\n",
              "      <td>2.160815</td>\n",
              "      <td>0.783781</td>\n",
              "      <td>0.0</td>\n",
              "      <td>1.75</td>\n",
              "      <td>2.25</td>\n",
              "      <td>2.5</td>\n",
              "      <td>8.0</td>\n",
              "    </tr>\n",
              "    <tr>\n",
              "      <th>sqft_living</th>\n",
              "      <td>4600.0</td>\n",
              "      <td>NaN</td>\n",
              "      <td>NaN</td>\n",
              "      <td>NaN</td>\n",
              "      <td>2139.346957</td>\n",
              "      <td>963.206916</td>\n",
              "      <td>370.0</td>\n",
              "      <td>1460.0</td>\n",
              "      <td>1980.0</td>\n",
              "      <td>2620.0</td>\n",
              "      <td>13540.0</td>\n",
              "    </tr>\n",
              "    <tr>\n",
              "      <th>sqft_lot</th>\n",
              "      <td>4600.0</td>\n",
              "      <td>NaN</td>\n",
              "      <td>NaN</td>\n",
              "      <td>NaN</td>\n",
              "      <td>14852.516087</td>\n",
              "      <td>35884.436145</td>\n",
              "      <td>638.0</td>\n",
              "      <td>5000.75</td>\n",
              "      <td>7683.0</td>\n",
              "      <td>11001.25</td>\n",
              "      <td>1074218.0</td>\n",
              "    </tr>\n",
              "    <tr>\n",
              "      <th>floors</th>\n",
              "      <td>4600.0</td>\n",
              "      <td>NaN</td>\n",
              "      <td>NaN</td>\n",
              "      <td>NaN</td>\n",
              "      <td>1.512065</td>\n",
              "      <td>0.538288</td>\n",
              "      <td>1.0</td>\n",
              "      <td>1.0</td>\n",
              "      <td>1.5</td>\n",
              "      <td>2.0</td>\n",
              "      <td>3.5</td>\n",
              "    </tr>\n",
              "    <tr>\n",
              "      <th>waterfront</th>\n",
              "      <td>4600.0</td>\n",
              "      <td>NaN</td>\n",
              "      <td>NaN</td>\n",
              "      <td>NaN</td>\n",
              "      <td>0.007174</td>\n",
              "      <td>0.084404</td>\n",
              "      <td>0.0</td>\n",
              "      <td>0.0</td>\n",
              "      <td>0.0</td>\n",
              "      <td>0.0</td>\n",
              "      <td>1.0</td>\n",
              "    </tr>\n",
              "    <tr>\n",
              "      <th>view</th>\n",
              "      <td>4600.0</td>\n",
              "      <td>NaN</td>\n",
              "      <td>NaN</td>\n",
              "      <td>NaN</td>\n",
              "      <td>0.240652</td>\n",
              "      <td>0.778405</td>\n",
              "      <td>0.0</td>\n",
              "      <td>0.0</td>\n",
              "      <td>0.0</td>\n",
              "      <td>0.0</td>\n",
              "      <td>4.0</td>\n",
              "    </tr>\n",
              "    <tr>\n",
              "      <th>condition</th>\n",
              "      <td>4600.0</td>\n",
              "      <td>NaN</td>\n",
              "      <td>NaN</td>\n",
              "      <td>NaN</td>\n",
              "      <td>3.451739</td>\n",
              "      <td>0.67723</td>\n",
              "      <td>1.0</td>\n",
              "      <td>3.0</td>\n",
              "      <td>3.0</td>\n",
              "      <td>4.0</td>\n",
              "      <td>5.0</td>\n",
              "    </tr>\n",
              "    <tr>\n",
              "      <th>sqft_above</th>\n",
              "      <td>4600.0</td>\n",
              "      <td>NaN</td>\n",
              "      <td>NaN</td>\n",
              "      <td>NaN</td>\n",
              "      <td>1827.265435</td>\n",
              "      <td>862.168977</td>\n",
              "      <td>370.0</td>\n",
              "      <td>1190.0</td>\n",
              "      <td>1590.0</td>\n",
              "      <td>2300.0</td>\n",
              "      <td>9410.0</td>\n",
              "    </tr>\n",
              "    <tr>\n",
              "      <th>sqft_basement</th>\n",
              "      <td>4600.0</td>\n",
              "      <td>NaN</td>\n",
              "      <td>NaN</td>\n",
              "      <td>NaN</td>\n",
              "      <td>312.081522</td>\n",
              "      <td>464.137228</td>\n",
              "      <td>0.0</td>\n",
              "      <td>0.0</td>\n",
              "      <td>0.0</td>\n",
              "      <td>610.0</td>\n",
              "      <td>4820.0</td>\n",
              "    </tr>\n",
              "    <tr>\n",
              "      <th>yr_built</th>\n",
              "      <td>4600.0</td>\n",
              "      <td>NaN</td>\n",
              "      <td>NaN</td>\n",
              "      <td>NaN</td>\n",
              "      <td>1970.786304</td>\n",
              "      <td>29.731848</td>\n",
              "      <td>1900.0</td>\n",
              "      <td>1951.0</td>\n",
              "      <td>1976.0</td>\n",
              "      <td>1997.0</td>\n",
              "      <td>2014.0</td>\n",
              "    </tr>\n",
              "    <tr>\n",
              "      <th>yr_renovated</th>\n",
              "      <td>4600.0</td>\n",
              "      <td>NaN</td>\n",
              "      <td>NaN</td>\n",
              "      <td>NaN</td>\n",
              "      <td>808.608261</td>\n",
              "      <td>979.414536</td>\n",
              "      <td>0.0</td>\n",
              "      <td>0.0</td>\n",
              "      <td>0.0</td>\n",
              "      <td>1999.0</td>\n",
              "      <td>2014.0</td>\n",
              "    </tr>\n",
              "    <tr>\n",
              "      <th>street</th>\n",
              "      <td>4600</td>\n",
              "      <td>4525</td>\n",
              "      <td>2520 Mulberry Walk NE</td>\n",
              "      <td>4</td>\n",
              "      <td>NaN</td>\n",
              "      <td>NaN</td>\n",
              "      <td>NaN</td>\n",
              "      <td>NaN</td>\n",
              "      <td>NaN</td>\n",
              "      <td>NaN</td>\n",
              "      <td>NaN</td>\n",
              "    </tr>\n",
              "    <tr>\n",
              "      <th>city</th>\n",
              "      <td>4600</td>\n",
              "      <td>44</td>\n",
              "      <td>Seattle</td>\n",
              "      <td>1573</td>\n",
              "      <td>NaN</td>\n",
              "      <td>NaN</td>\n",
              "      <td>NaN</td>\n",
              "      <td>NaN</td>\n",
              "      <td>NaN</td>\n",
              "      <td>NaN</td>\n",
              "      <td>NaN</td>\n",
              "    </tr>\n",
              "    <tr>\n",
              "      <th>statezip</th>\n",
              "      <td>4600</td>\n",
              "      <td>77</td>\n",
              "      <td>WA 98103</td>\n",
              "      <td>148</td>\n",
              "      <td>NaN</td>\n",
              "      <td>NaN</td>\n",
              "      <td>NaN</td>\n",
              "      <td>NaN</td>\n",
              "      <td>NaN</td>\n",
              "      <td>NaN</td>\n",
              "      <td>NaN</td>\n",
              "    </tr>\n",
              "  </tbody>\n",
              "</table>\n",
              "</div>\n",
              "      <button class=\"colab-df-convert\" onclick=\"convertToInteractive('df-8646b270-393f-44d1-8276-27824a0e7050')\"\n",
              "              title=\"Convert this dataframe to an interactive table.\"\n",
              "              style=\"display:none;\">\n",
              "        \n",
              "  <svg xmlns=\"http://www.w3.org/2000/svg\" height=\"24px\"viewBox=\"0 0 24 24\"\n",
              "       width=\"24px\">\n",
              "    <path d=\"M0 0h24v24H0V0z\" fill=\"none\"/>\n",
              "    <path d=\"M18.56 5.44l.94 2.06.94-2.06 2.06-.94-2.06-.94-.94-2.06-.94 2.06-2.06.94zm-11 1L8.5 8.5l.94-2.06 2.06-.94-2.06-.94L8.5 2.5l-.94 2.06-2.06.94zm10 10l.94 2.06.94-2.06 2.06-.94-2.06-.94-.94-2.06-.94 2.06-2.06.94z\"/><path d=\"M17.41 7.96l-1.37-1.37c-.4-.4-.92-.59-1.43-.59-.52 0-1.04.2-1.43.59L10.3 9.45l-7.72 7.72c-.78.78-.78 2.05 0 2.83L4 21.41c.39.39.9.59 1.41.59.51 0 1.02-.2 1.41-.59l7.78-7.78 2.81-2.81c.8-.78.8-2.07 0-2.86zM5.41 20L4 18.59l7.72-7.72 1.47 1.35L5.41 20z\"/>\n",
              "  </svg>\n",
              "      </button>\n",
              "      \n",
              "  <style>\n",
              "    .colab-df-container {\n",
              "      display:flex;\n",
              "      flex-wrap:wrap;\n",
              "      gap: 12px;\n",
              "    }\n",
              "\n",
              "    .colab-df-convert {\n",
              "      background-color: #E8F0FE;\n",
              "      border: none;\n",
              "      border-radius: 50%;\n",
              "      cursor: pointer;\n",
              "      display: none;\n",
              "      fill: #1967D2;\n",
              "      height: 32px;\n",
              "      padding: 0 0 0 0;\n",
              "      width: 32px;\n",
              "    }\n",
              "\n",
              "    .colab-df-convert:hover {\n",
              "      background-color: #E2EBFA;\n",
              "      box-shadow: 0px 1px 2px rgba(60, 64, 67, 0.3), 0px 1px 3px 1px rgba(60, 64, 67, 0.15);\n",
              "      fill: #174EA6;\n",
              "    }\n",
              "\n",
              "    [theme=dark] .colab-df-convert {\n",
              "      background-color: #3B4455;\n",
              "      fill: #D2E3FC;\n",
              "    }\n",
              "\n",
              "    [theme=dark] .colab-df-convert:hover {\n",
              "      background-color: #434B5C;\n",
              "      box-shadow: 0px 1px 3px 1px rgba(0, 0, 0, 0.15);\n",
              "      filter: drop-shadow(0px 1px 2px rgba(0, 0, 0, 0.3));\n",
              "      fill: #FFFFFF;\n",
              "    }\n",
              "  </style>\n",
              "\n",
              "      <script>\n",
              "        const buttonEl =\n",
              "          document.querySelector('#df-8646b270-393f-44d1-8276-27824a0e7050 button.colab-df-convert');\n",
              "        buttonEl.style.display =\n",
              "          google.colab.kernel.accessAllowed ? 'block' : 'none';\n",
              "\n",
              "        async function convertToInteractive(key) {\n",
              "          const element = document.querySelector('#df-8646b270-393f-44d1-8276-27824a0e7050');\n",
              "          const dataTable =\n",
              "            await google.colab.kernel.invokeFunction('convertToInteractive',\n",
              "                                                     [key], {});\n",
              "          if (!dataTable) return;\n",
              "\n",
              "          const docLinkHtml = 'Like what you see? Visit the ' +\n",
              "            '<a target=\"_blank\" href=https://colab.research.google.com/notebooks/data_table.ipynb>data table notebook</a>'\n",
              "            + ' to learn more about interactive tables.';\n",
              "          element.innerHTML = '';\n",
              "          dataTable['output_type'] = 'display_data';\n",
              "          await google.colab.output.renderOutput(dataTable, element);\n",
              "          const docLink = document.createElement('div');\n",
              "          docLink.innerHTML = docLinkHtml;\n",
              "          element.appendChild(docLink);\n",
              "        }\n",
              "      </script>\n",
              "    </div>\n",
              "  </div>\n",
              "  "
            ]
          },
          "metadata": {},
          "execution_count": 18
        }
      ]
    },
    {
      "cell_type": "markdown",
      "id": "3ca57179",
      "metadata": {
        "id": "3ca57179"
      },
      "source": [
        "## Visualización del dataset"
      ]
    },
    {
      "cell_type": "markdown",
      "source": [
        "### Relación del precio de la viviendacon el año que fue construida la vivienda"
      ],
      "metadata": {
        "id": "UoxJh92Te5Un"
      },
      "id": "UoxJh92Te5Un"
    },
    {
      "cell_type": "code",
      "execution_count": null,
      "id": "816727ab",
      "metadata": {
        "id": "816727ab",
        "outputId": "85f08cd9-8d6f-40a9-d6da-fd1bc90d6cf9",
        "colab": {
          "base_uri": "https://localhost:8080/",
          "height": 314
        }
      },
      "outputs": [
        {
          "output_type": "execute_result",
          "data": {
            "text/plain": [
              "<matplotlib.axes._subplots.AxesSubplot at 0x7eff62d25730>"
            ]
          },
          "metadata": {},
          "execution_count": 19
        },
        {
          "output_type": "display_data",
          "data": {
            "text/plain": [
              "<Figure size 432x288 with 1 Axes>"
            ],
            "image/png": "[encoded data removed]"
          },
          "metadata": {}
        }
      ],
      "source": [
        "# Visualización regplot, relación del precio con el año construido\n",
        "sns.set(style=\"darkgrid\")\n",
        "sns.regplot(x=housedata['yr_built'], y= housedata[\"price\"])"
      ]
    },
    {
      "cell_type": "markdown",
      "source": [
        "### Relación del precio de la vivienda con la superficie construida `sqft_living`"
      ],
      "metadata": {
        "id": "01SX0wlKOmWk"
      },
      "id": "01SX0wlKOmWk"
    },
    {
      "cell_type": "code",
      "source": [
        "# Visualización regplot, relación del precio con el año construido\n",
        "sns.set(style=\"darkgrid\")\n",
        "sns.regplot(x=housedata['sqft_living'], y= housedata[\"price\"])"
      ],
      "metadata": {
        "colab": {
          "base_uri": "https://localhost:8080/",
          "height": 314
        },
        "id": "Cx414CFDO25M",
        "outputId": "1d1f313f-8d6b-4373-ef53-5de25f45dd7c"
      },
      "id": "Cx414CFDO25M",
      "execution_count": null,
      "outputs": [
        {
          "output_type": "execute_result",
          "data": {
            "text/plain": [
              "<matplotlib.axes._subplots.AxesSubplot at 0x7eff62c08d90>"
            ]
          },
          "metadata": {},
          "execution_count": 20
        },
        {
          "output_type": "display_data",
          "data": {
            "text/plain": [
              "<Figure size 432x288 with 1 Axes>"
            ],
            "image/png": "[encoded data removed]"
          },
          "metadata": {}
        }
      ]
    },
    {
      "cell_type": "code",
      "source": [
        "# visualización displot, relación de número de viviendas según el númeo de baños\n",
        "sns.displot(housedata[\"bathrooms\"],bins=10)"
      ],
      "metadata": {
        "colab": {
          "base_uri": "https://localhost:8080/",
          "height": 383
        },
        "id": "gP3sQM3efPDa",
        "outputId": "ecb6f1f1-0d5f-4f4e-a40b-c1808465faac"
      },
      "id": "gP3sQM3efPDa",
      "execution_count": null,
      "outputs": [
        {
          "output_type": "execute_result",
          "data": {
            "text/plain": [
              "<seaborn.axisgrid.FacetGrid at 0x7eff62769a90>"
            ]
          },
          "metadata": {},
          "execution_count": 21
        },
        {
          "output_type": "display_data",
          "data": {
            "text/plain": [
              "<Figure size 360x360 with 1 Axes>"
            ],
            "image/png": "[encoded data removed]"
          },
          "metadata": {}
        }
      ]
    },
    {
      "cell_type": "code",
      "source": [
        "# visualización histogramas\n",
        "housedata.hist(figsize=(15,20))\n",
        "plt.show()"
      ],
      "metadata": {
        "colab": {
          "base_uri": "https://localhost:8080/",
          "height": 1000
        },
        "id": "IViU76PdfrO0",
        "outputId": "c1995bc3-ed09-4dc0-d982-f1f5994f2b6a"
      },
      "id": "IViU76PdfrO0",
      "execution_count": null,
      "outputs": [
        {
          "output_type": "display_data",
          "data": {
            "text/plain": [
              "<Figure size 1080x1440 with 16 Axes>"
            ],
            "image/png": "[encoded data removed]"
          },
          "metadata": {}
        }
      ]
    },
    {
      "cell_type": "code",
      "source": [
        "# visualización barras\n",
        "plt.figure(figsize=(15,20))\n",
        "sns.barplot(data=housedata,y='statezip',x='price',orient=\"h3\")"
      ],
      "metadata": {
        "colab": {
          "base_uri": "https://localhost:8080/",
          "height": 1000
        },
        "id": "d3sgDKBfguvH",
        "outputId": "16708958-1e43-4355-a591-729b664dbf28"
      },
      "id": "d3sgDKBfguvH",
      "execution_count": null,
      "outputs": [
        {
          "output_type": "execute_result",
          "data": {
            "text/plain": [
              "<matplotlib.axes._subplots.AxesSubplot at 0x7eff6272cb20>"
            ]
          },
          "metadata": {},
          "execution_count": 23
        },
        {
          "output_type": "display_data",
          "data": {
            "text/plain": [
              "<Figure size 1080x1440 with 1 Axes>"
            ],
            "image/png": "[encoded data removed]"
          },
          "metadata": {}
        }
      ]
    },
    {
      "cell_type": "markdown",
      "source": [
        "La variable objetivo es el precio de la vivienda.\n",
        "[1] Los factores significativos de las variables categóricas es el statezip, ya que hay variaciones considerables de precio según el lugar, tal y como se pudede ver en el gráfico anterior y como suele ocurrir en la vida real.\n",
        "Los factores significativos de las variables numéricas son los relacionados con la superficie, como se puede ver en el gráfico de precio/superficie. Habría que verificar si existe correlaci´dependencia entre las variables de superficie `sqft_living` y `sqft_lot`, para eliminar sqft_lot si la hubiera.\n",
        "Aparentemente por el gráfico, no hay mucha relación entre el precio de la vivienda y el año en el que fue construida, pero no descartamos la variable."
      ],
      "metadata": {
        "id": "_hYcWmbimaK5"
      },
      "id": "_hYcWmbimaK5"
    },
    {
      "cell_type": "markdown",
      "id": "e8de1a36",
      "metadata": {
        "id": "e8de1a36"
      },
      "source": [
        "# Hipótesis para entrenar un modelo de regresión"
      ]
    },
    {
      "cell_type": "markdown",
      "id": "bb5851f8",
      "metadata": {
        "id": "bb5851f8"
      },
      "source": [
        "Planteamos un modelo de **regresión múltiple** para predecir los costes médicos de una determinada póliza (`charges`).\n",
        "\n",
        "Para ello proponemos las siuguientes hipótesis de trabajo.\n",
        "\n",
        "- **Hipótesis 1**: entrenar el modelo sólo con las variables numéricas\n",
        "    - **Hipótesis 1 (b)**: escalar el valor de `price`\n",
        "- **Hipótesis 2**: usar tanto las variables numéricas como las categóricas `street`, `statezip` y `city` (mediante *one hot encodding*) para entrenar el modelo\n",
        "    - **Hipótesis 2 (b)**: escalar el valor de `price`\n",
        "- **Hipótesis 3**: entrenar el modelo sólo con las variables que hemos encontrado significativas en [[1]]: `statezip`\n",
        "    - **Hipótesis 3 (b)**: escalar el valor de `price`\n",
        "- **Hipótesis 4**: A desarrollar en un futuro, entrenaríamos un modelo reducido teniendo en cuenta sólo `statezip` y eliminar variable numérica `sqft_lot` y también `waterfront`\n",
        "    - **Hipótesis 4 (b)**: escalar el valor de `price`\n"
      ]
    },
    {
      "cell_type": "markdown",
      "id": "350b70a5",
      "metadata": {
        "id": "350b70a5"
      },
      "source": [
        "# Entrenamiento del modelo de regresión lineal múltiple"
      ]
    },
    {
      "cell_type": "code",
      "source": [
        "# Esta clase nos permite reutilizar el método de entrenamiento para las distintas hipótesis \n",
        "#   y organizar la información que necesitamos de cada una de ellas\n",
        "\n",
        "class Hypotesis:\n",
        "    def __init__(self):\n",
        "        self.model = None            # El modelo de regresión lineal entrenado\n",
        "        self.coefficients = None     # Coeficientes de la regresión\n",
        "        self.fitted_values = None    # Predicciones del modelo sobre los datos de entrenamiento\n",
        "        self.test_predictions = None # Predicciones del modelo sobre los datos de test\n",
        "        self.scaler = None           # Si usamos escalado, el scaler empledado\n",
        "        self.mse_train = None        # Error cuadrático medio sobre los datos de entrenamienti\n",
        "        self.mse_test = None         # Error cuadrático medio sobre los datos de test\n",
        "        num_features = None          # Número de variables usadas para el entrenamiento\n",
        "        \n",
        "    def train_model(self, X, y, scaler=None):\n",
        "        self.num_features = X.shape[1]\n",
        "        # [Opcional] escalamos la variable objetivo\n",
        "        if scaler is not None:\n",
        "            self.scaler = scaler\n",
        "            y_sca = scaler.fit_transform(y.to_numpy().reshape(-1, 1)).reshape(1, -1)[0]\n",
        "        # Separamos el dataset en conjunto de entrenamiento y de test\n",
        "        X_train, X_test, y_train, y_test = train_test_split(\n",
        "            X, \n",
        "            y.to_numpy() if scaler is None else y_sca, \n",
        "            test_size=0.2, random_state=2001\n",
        "        )\n",
        "        print(f\"Training set. X: {X_train.shape}, y:{y_train.shape}\")\n",
        "        print(f\"Test set. X: {X_test.shape}, y:{y_test.shape}\")\n",
        "        \n",
        "        # Entrenamos el modelo\n",
        "        self.model = LinearRegression()\n",
        "        self.model.fit(X_train, y_train)\n",
        "        \n",
        "        # Almacenamos resultados del entrenamiento\n",
        "        self.coefficients = pd.DataFrame({\n",
        "            \"feature\": np.array(X.columns),\n",
        "            \"slope\": self.model.coef_\n",
        "        }).set_index(\"feature\", drop=True)\n",
        "        self.fitted_values = self.model.predict(X_train)\n",
        "        self.test_predictions = self.model.predict(X_test)\n",
        "        \n",
        "        \n",
        "        # Evaluamos el modelo\n",
        "        self.mse_train = mean_squared_error(y_true=y_train, y_pred=self.fitted_values)\n",
        "        print(\"TRAIN MSE:\", self.mse_train)\n",
        "        self.mse_test = mean_squared_error(y_true=y_test, y_pred=self.test_predictions)\n",
        "        print(\"TEST_MSE:\", self.mse_test)"
      ],
      "metadata": {
        "id": "nBwYzSYN7pIG"
      },
      "id": "nBwYzSYN7pIG",
      "execution_count": null,
      "outputs": []
    },
    {
      "cell_type": "code",
      "execution_count": null,
      "id": "450224fe",
      "metadata": {
        "id": "450224fe"
      },
      "outputs": [],
      "source": [
        "# Diccionario en el que almacenaremos las hipótesis que vayamos probando\n",
        "my_hypotesis = dict()"
      ]
    },
    {
      "cell_type": "markdown",
      "id": "27c22171",
      "metadata": {
        "id": "27c22171"
      },
      "source": [
        "## Hipótesis 1. Usar sólo las variables numéricas"
      ]
    },
    {
      "cell_type": "code",
      "source": [
        "# borramos las columnas categóricas\n",
        "categorical_columns = [\"street\", \"statezip\",\"city\"]\n",
        "housedata_hypot1 = housedata.drop(categorical_columns, axis=1)"
      ],
      "metadata": {
        "id": "n_RHOGC5Wj7z"
      },
      "id": "n_RHOGC5Wj7z",
      "execution_count": null,
      "outputs": []
    },
    {
      "cell_type": "code",
      "source": [
        "#chequeamos nuestro dataset\n",
        "housedata_hypot1.head()"
      ],
      "metadata": {
        "colab": {
          "base_uri": "https://localhost:8080/",
          "height": 206
        },
        "id": "y59swa8hFN6j",
        "outputId": "f50b517a-4f3c-4216-902a-97d28f1e6c81"
      },
      "id": "y59swa8hFN6j",
      "execution_count": null,
      "outputs": [
        {
          "output_type": "execute_result",
          "data": {
            "text/plain": [
              "     price  bedrooms  bathrooms  sqft_living  sqft_lot  floors  waterfront  \\\n",
              "0   313000       3.0       1.50         1340      7912     1.5           0   \n",
              "1  2384000       5.0       2.50         3650      9050     2.0           0   \n",
              "2   342000       3.0       2.00         1930     11947     1.0           0   \n",
              "3   420000       3.0       2.25         2000      8030     1.0           0   \n",
              "4   550000       4.0       2.50         1940     10500     1.0           0   \n",
              "\n",
              "   view  condition  sqft_above  sqft_basement  yr_built  yr_renovated  \n",
              "0     0          3        1340              0      1955          2005  \n",
              "1     4          5        3370            280      1921             0  \n",
              "2     0          4        1930              0      1966             0  \n",
              "3     0          4        1000           1000      1963             0  \n",
              "4     0          4        1140            800      1976          1992  "
            ],
            "text/html": [
              "\n",
              "  <div id=\"df-c65be62b-3c26-4233-bd3f-9596d9602fdc\">\n",
              "    <div class=\"colab-df-container\">\n",
              "      <div>\n",
              "<style scoped>\n",
              "    .dataframe tbody tr th:only-of-type {\n",
              "        vertical-align: middle;\n",
              "    }\n",
              "\n",
              "    .dataframe tbody tr th {\n",
              "        vertical-align: top;\n",
              "    }\n",
              "\n",
              "    .dataframe thead th {\n",
              "        text-align: right;\n",
              "    }\n",
              "</style>\n",
              "<table border=\"1\" class=\"dataframe\">\n",
              "  <thead>\n",
              "    <tr style=\"text-align: right;\">\n",
              "      <th></th>\n",
              "      <th>price</th>\n",
              "      <th>bedrooms</th>\n",
              "      <th>bathrooms</th>\n",
              "      <th>sqft_living</th>\n",
              "      <th>sqft_lot</th>\n",
              "      <th>floors</th>\n",
              "      <th>waterfront</th>\n",
              "      <th>view</th>\n",
              "      <th>condition</th>\n",
              "      <th>sqft_above</th>\n",
              "      <th>sqft_basement</th>\n",
              "      <th>yr_built</th>\n",
              "      <th>yr_renovated</th>\n",
              "    </tr>\n",
              "  </thead>\n",
              "  <tbody>\n",
              "    <tr>\n",
              "      <th>0</th>\n",
              "      <td>313000</td>\n",
              "      <td>3.0</td>\n",
              "      <td>1.50</td>\n",
              "      <td>1340</td>\n",
              "      <td>7912</td>\n",
              "      <td>1.5</td>\n",
              "      <td>0</td>\n",
              "      <td>0</td>\n",
              "      <td>3</td>\n",
              "      <td>1340</td>\n",
              "      <td>0</td>\n",
              "      <td>1955</td>\n",
              "      <td>2005</td>\n",
              "    </tr>\n",
              "    <tr>\n",
              "      <th>1</th>\n",
              "      <td>2384000</td>\n",
              "      <td>5.0</td>\n",
              "      <td>2.50</td>\n",
              "      <td>3650</td>\n",
              "      <td>9050</td>\n",
              "      <td>2.0</td>\n",
              "      <td>0</td>\n",
              "      <td>4</td>\n",
              "      <td>5</td>\n",
              "      <td>3370</td>\n",
              "      <td>280</td>\n",
              "      <td>1921</td>\n",
              "      <td>0</td>\n",
              "    </tr>\n",
              "    <tr>\n",
              "      <th>2</th>\n",
              "      <td>342000</td>\n",
              "      <td>3.0</td>\n",
              "      <td>2.00</td>\n",
              "      <td>1930</td>\n",
              "      <td>11947</td>\n",
              "      <td>1.0</td>\n",
              "      <td>0</td>\n",
              "      <td>0</td>\n",
              "      <td>4</td>\n",
              "      <td>1930</td>\n",
              "      <td>0</td>\n",
              "      <td>1966</td>\n",
              "      <td>0</td>\n",
              "    </tr>\n",
              "    <tr>\n",
              "      <th>3</th>\n",
              "      <td>420000</td>\n",
              "      <td>3.0</td>\n",
              "      <td>2.25</td>\n",
              "      <td>2000</td>\n",
              "      <td>8030</td>\n",
              "      <td>1.0</td>\n",
              "      <td>0</td>\n",
              "      <td>0</td>\n",
              "      <td>4</td>\n",
              "      <td>1000</td>\n",
              "      <td>1000</td>\n",
              "      <td>1963</td>\n",
              "      <td>0</td>\n",
              "    </tr>\n",
              "    <tr>\n",
              "      <th>4</th>\n",
              "      <td>550000</td>\n",
              "      <td>4.0</td>\n",
              "      <td>2.50</td>\n",
              "      <td>1940</td>\n",
              "      <td>10500</td>\n",
              "      <td>1.0</td>\n",
              "      <td>0</td>\n",
              "      <td>0</td>\n",
              "      <td>4</td>\n",
              "      <td>1140</td>\n",
              "      <td>800</td>\n",
              "      <td>1976</td>\n",
              "      <td>1992</td>\n",
              "    </tr>\n",
              "  </tbody>\n",
              "</table>\n",
              "</div>\n",
              "      <button class=\"colab-df-convert\" onclick=\"convertToInteractive('df-c65be62b-3c26-4233-bd3f-9596d9602fdc')\"\n",
              "              title=\"Convert this dataframe to an interactive table.\"\n",
              "              style=\"display:none;\">\n",
              "        \n",
              "  <svg xmlns=\"http://www.w3.org/2000/svg\" height=\"24px\"viewBox=\"0 0 24 24\"\n",
              "       width=\"24px\">\n",
              "    <path d=\"M0 0h24v24H0V0z\" fill=\"none\"/>\n",
              "    <path d=\"M18.56 5.44l.94 2.06.94-2.06 2.06-.94-2.06-.94-.94-2.06-.94 2.06-2.06.94zm-11 1L8.5 8.5l.94-2.06 2.06-.94-2.06-.94L8.5 2.5l-.94 2.06-2.06.94zm10 10l.94 2.06.94-2.06 2.06-.94-2.06-.94-.94-2.06-.94 2.06-2.06.94z\"/><path d=\"M17.41 7.96l-1.37-1.37c-.4-.4-.92-.59-1.43-.59-.52 0-1.04.2-1.43.59L10.3 9.45l-7.72 7.72c-.78.78-.78 2.05 0 2.83L4 21.41c.39.39.9.59 1.41.59.51 0 1.02-.2 1.41-.59l7.78-7.78 2.81-2.81c.8-.78.8-2.07 0-2.86zM5.41 20L4 18.59l7.72-7.72 1.47 1.35L5.41 20z\"/>\n",
              "  </svg>\n",
              "      </button>\n",
              "      \n",
              "  <style>\n",
              "    .colab-df-container {\n",
              "      display:flex;\n",
              "      flex-wrap:wrap;\n",
              "      gap: 12px;\n",
              "    }\n",
              "\n",
              "    .colab-df-convert {\n",
              "      background-color: #E8F0FE;\n",
              "      border: none;\n",
              "      border-radius: 50%;\n",
              "      cursor: pointer;\n",
              "      display: none;\n",
              "      fill: #1967D2;\n",
              "      height: 32px;\n",
              "      padding: 0 0 0 0;\n",
              "      width: 32px;\n",
              "    }\n",
              "\n",
              "    .colab-df-convert:hover {\n",
              "      background-color: #E2EBFA;\n",
              "      box-shadow: 0px 1px 2px rgba(60, 64, 67, 0.3), 0px 1px 3px 1px rgba(60, 64, 67, 0.15);\n",
              "      fill: #174EA6;\n",
              "    }\n",
              "\n",
              "    [theme=dark] .colab-df-convert {\n",
              "      background-color: #3B4455;\n",
              "      fill: #D2E3FC;\n",
              "    }\n",
              "\n",
              "    [theme=dark] .colab-df-convert:hover {\n",
              "      background-color: #434B5C;\n",
              "      box-shadow: 0px 1px 3px 1px rgba(0, 0, 0, 0.15);\n",
              "      filter: drop-shadow(0px 1px 2px rgba(0, 0, 0, 0.3));\n",
              "      fill: #FFFFFF;\n",
              "    }\n",
              "  </style>\n",
              "\n",
              "      <script>\n",
              "        const buttonEl =\n",
              "          document.querySelector('#df-c65be62b-3c26-4233-bd3f-9596d9602fdc button.colab-df-convert');\n",
              "        buttonEl.style.display =\n",
              "          google.colab.kernel.accessAllowed ? 'block' : 'none';\n",
              "\n",
              "        async function convertToInteractive(key) {\n",
              "          const element = document.querySelector('#df-c65be62b-3c26-4233-bd3f-9596d9602fdc');\n",
              "          const dataTable =\n",
              "            await google.colab.kernel.invokeFunction('convertToInteractive',\n",
              "                                                     [key], {});\n",
              "          if (!dataTable) return;\n",
              "\n",
              "          const docLinkHtml = 'Like what you see? Visit the ' +\n",
              "            '<a target=\"_blank\" href=https://colab.research.google.com/notebooks/data_table.ipynb>data table notebook</a>'\n",
              "            + ' to learn more about interactive tables.';\n",
              "          element.innerHTML = '';\n",
              "          dataTable['output_type'] = 'display_data';\n",
              "          await google.colab.output.renderOutput(dataTable, element);\n",
              "          const docLink = document.createElement('div');\n",
              "          docLink.innerHTML = docLinkHtml;\n",
              "          element.appendChild(docLink);\n",
              "        }\n",
              "      </script>\n",
              "    </div>\n",
              "  </div>\n",
              "  "
            ]
          },
          "metadata": {},
          "execution_count": 27
        }
      ]
    },
    {
      "cell_type": "code",
      "source": [
        "numerical_vars = housedata.columns[housedata.dtypes != \"object\"]\n",
        "target = \"price\""
      ],
      "metadata": {
        "id": "HdJS8sLB9NHH"
      },
      "id": "HdJS8sLB9NHH",
      "execution_count": null,
      "outputs": []
    },
    {
      "cell_type": "code",
      "source": [
        "# Preparamos el dataset para la hipótesis 1\n",
        "\n",
        "data_hypot1 = housedata[numerical_vars]\n",
        "X_hypot1 = data_hypot1.drop(target, axis=1)\n",
        "y_hypot1 = data_hypot1[target]"
      ],
      "metadata": {
        "id": "sYQ2pLgr8suz"
      },
      "id": "sYQ2pLgr8suz",
      "execution_count": null,
      "outputs": []
    },
    {
      "cell_type": "code",
      "source": [
        "# Probamos la hipótesis\n",
        "hypot1 = Hypotesis()\n",
        "hypot1.train_model(X=X_hypot1, y=y_hypot1)\n",
        "my_hypotesis[\"Hipótesis 1\"] = hypot1"
      ],
      "metadata": {
        "colab": {
          "base_uri": "https://localhost:8080/"
        },
        "id": "2VLrL5l68EL8",
        "outputId": "7d63caf6-0a37-45c7-838e-b4aa07565789"
      },
      "id": "2VLrL5l68EL8",
      "execution_count": null,
      "outputs": [
        {
          "output_type": "stream",
          "name": "stdout",
          "text": [
            "Training set. X: (3680, 12), y:(3680,)\n",
            "Test set. X: (920, 12), y:(920,)\n",
            "TRAIN MSE: 298840205875.44604\n",
            "TEST_MSE: 47944320102.91745\n"
          ]
        }
      ]
    },
    {
      "cell_type": "code",
      "execution_count": null,
      "id": "a4ba61ae",
      "metadata": {
        "id": "a4ba61ae"
      },
      "outputs": [],
      "source": [
        "# Preparamos el dataset para la hipótesis 1\n",
        "\n",
        "# indicamos variable objetivo\n",
        "X_hypot1 = housedata_hypot1.drop('price',axis =1).values\n",
        "y_hypot1 = housedata_hypot1['price'].values"
      ]
    },
    {
      "cell_type": "code",
      "source": [
        "# preparamos train data y test data\n",
        "from sklearn.model_selection import train_test_split\n",
        "X_hypot1_train, X_hypot1_test, y_hypot1_train, y_hypot1_test = train_test_split(X_hypot1, y_hypot1, test_size=0.20, random_state=43) "
      ],
      "metadata": {
        "id": "tXDkXvWWo-PD"
      },
      "id": "tXDkXvWWo-PD",
      "execution_count": null,
      "outputs": []
    },
    {
      "cell_type": "code",
      "source": [
        "housedata_hypot1.dtypes"
      ],
      "metadata": {
        "colab": {
          "base_uri": "https://localhost:8080/"
        },
        "id": "RBp4pZSsRsXP",
        "outputId": "71891a06-f132-4424-bf19-435fbe86f77a"
      },
      "id": "RBp4pZSsRsXP",
      "execution_count": null,
      "outputs": [
        {
          "output_type": "execute_result",
          "data": {
            "text/plain": [
              "price              int64\n",
              "bedrooms         float64\n",
              "bathrooms        float64\n",
              "sqft_living        int64\n",
              "sqft_lot           int64\n",
              "floors           float64\n",
              "waterfront         int64\n",
              "view               int64\n",
              "condition          int64\n",
              "sqft_above         int64\n",
              "sqft_basement      int64\n",
              "yr_built           int64\n",
              "yr_renovated       int64\n",
              "dtype: object"
            ]
          },
          "metadata": {},
          "execution_count": 76
        }
      ]
    },
    {
      "cell_type": "code",
      "execution_count": null,
      "id": "4c490688",
      "metadata": {
        "id": "4c490688",
        "outputId": "eb1e3136-e4db-4cd3-bb0e-b7fdc2c4ac0f",
        "colab": {
          "base_uri": "https://localhost:8080/"
        }
      },
      "outputs": [
        {
          "output_type": "execute_result",
          "data": {
            "text/plain": [
              "LinearRegression()"
            ]
          },
          "metadata": {},
          "execution_count": 82
        }
      ],
      "source": [
        "#Regresión lineal\n",
        "from sklearn.linear_model import LinearRegression\n",
        "regresion_lineal = LinearRegression()\n",
        "regresion_lineal.fit(X_hypot1_train, y_hypot1_train)"
      ]
    },
    {
      "cell_type": "markdown",
      "source": [
        "#### Validáción hipótesis 1"
      ],
      "metadata": {
        "id": "KhmRdDfYJSOz"
      },
      "id": "KhmRdDfYJSOz"
    },
    {
      "cell_type": "code",
      "source": [
        "# Validación del modelo, FASE VALIDACIÓN\n",
        "# regresión lineal\n",
        "y_hypot1_pred=regresion_lineal.predict(X_hypot1_test)"
      ],
      "metadata": {
        "id": "Do2nZR1FMd2n"
      },
      "id": "Do2nZR1FMd2n",
      "execution_count": null,
      "outputs": []
    },
    {
      "cell_type": "code",
      "source": [
        "# consultar accuracy\n",
        "print(\"Training acc >> \", regresion_lineal.score(X_hypot1_train, y_hypot1_train))\n",
        "print(\"Testing acc >> \", regresion_lineal.score(X_hypot1_test, y_hypot1_test))\n"
      ],
      "metadata": {
        "id": "BGc8mZNHaDT2",
        "colab": {
          "base_uri": "https://localhost:8080/"
        },
        "outputId": "1c2f8136-9dcf-49fc-baae-0789a7a36cfb"
      },
      "id": "BGc8mZNHaDT2",
      "execution_count": null,
      "outputs": [
        {
          "output_type": "stream",
          "name": "stdout",
          "text": [
            "Training acc >>  0.18315591252892383\n",
            "Testing acc >>  0.5231942636658485\n"
          ]
        }
      ]
    },
    {
      "cell_type": "code",
      "source": [
        "# validación cruzada, Se trata de \n",
        "# técnica de remuestreo que puede proporcionar una robusta estimación del rendimiento de un modelo de Machine Learning \n",
        "# sobre datos no vistos\n",
        "from sklearn.model_selection import cross_val_score\n",
        "regresion_lineal = LinearRegression()\n",
        "cvscores_10 = cross_val_score(regresion_lineal, X_hypot1, y_hypot1, cv= 10)\n",
        "print('cvscores',np.mean(cvscores_10))\n"
      ],
      "metadata": {
        "colab": {
          "base_uri": "https://localhost:8080/"
        },
        "id": "wUhXfW7kJ5hT",
        "outputId": "fd01452d-6fcf-4fc2-dafa-c88a42082885"
      },
      "id": "wUhXfW7kJ5hT",
      "execution_count": null,
      "outputs": [
        {
          "output_type": "stream",
          "name": "stdout",
          "text": [
            "cvscores 0.5289011116464213\n"
          ]
        }
      ]
    },
    {
      "cell_type": "code",
      "source": [
        "# Procedemos a calcular el Error Cuadrático Medio (MSE = Mean Squared Error)\n",
        "from sklearn.metrics import mean_squared_error, r2_score\n",
        "\n",
        "# predecimos los valores y para los datos usados en el entrenamiento\n",
        "prediccion_entrenamiento = regresion_lineal.predict(X_hypot1_train)\n",
        "\n",
        "#calculamos el Error Cuadrático Medio (MSE = Mean Squared Error) \n",
        "mse_hypot1_train = mean_squared_error(y_true = y_hypot1_train, y_pred = prediccion_entrenamiento) # y_pred, no y_hypot1_pred\n",
        "print('Error Cuadrático Medio (MSE) TRAIN= ' + str(mse_hypot1_train))\n",
        "\n",
        "#calculamos el Coeficiente R2 (R2_squared = Coeficiente R2) \n",
        "r2_hypot1_train = r2_score(y_true = y_hypot1_train, y_pred = prediccion_entrenamiento) # y_pred, no y_hypot1_pred\n",
        "print('Coeficiente R2 (R2) TRAIN= ' + str(r2_hypot1_train))\n",
        "\n",
        "\n",
        "#predecimos los valores y para los datos usados en el entrenamiento de test\n",
        "prediccion_entrenamiento = regresion_lineal.predict(X_hypot1_test)\n",
        "\n",
        "#calculamos el Error Cuadrático Medio (MSE = Mean Squared Error) \n",
        "mse_hypot1_test = mean_squared_error(y_true = y_hypot1_test, y_pred = prediccion_entrenamiento)\n",
        "print(\"Error Cuadrático Medio (MSE) TEST =\" + str(mse_hypot1_test))\n",
        "\n",
        "#calculamos el Coeficiente R2 (R2_squared = Coeficiente R2) \n",
        "r2_hypot1_test = r2_score(y_true = y_hypot1_test, y_pred = prediccion_entrenamiento) # y_pred, no y_hypot1_pred\n",
        "print('Coeficiente R2 (R2) TRAIN= ' + str(r2_hypot1_test))\n"
      ],
      "metadata": {
        "colab": {
          "base_uri": "https://localhost:8080/"
        },
        "id": "cvtDMj3hNnIC",
        "outputId": "da8657a0-05bc-4e38-fb87-4949900550e6"
      },
      "id": "cvtDMj3hNnIC",
      "execution_count": null,
      "outputs": [
        {
          "output_type": "stream",
          "name": "stdout",
          "text": [
            "Error Cuadrático Medio (MSE) TRAIN= 292440344586.52783\n",
            "Coeficiente R2 (R2) TRAIN= 0.18315591252892383\n",
            "Error Cuadrático Medio (MSE) TEST =74834240836.61484\n",
            "Coeficiente R2 (R2) TRAIN= 0.5231942636658485\n"
          ]
        }
      ]
    },
    {
      "cell_type": "markdown",
      "source": [
        "*Es un error cuadrático medio (MSE) muy alto, ya que para ser válida la hipótesis, el error tiene que ser próximo a cero*.\n",
        "El coeficiente R2 se aleja también de 1, por tanto no está bien correlacionadas las variables para cumplir con la regresión múltiple."
      ],
      "metadata": {
        "id": "j1kkOSEgVDNb"
      },
      "id": "j1kkOSEgVDNb"
    },
    {
      "cell_type": "markdown",
      "id": "5a045d32",
      "metadata": {
        "id": "5a045d32"
      },
      "source": [
        "### Hipótesis 1b. Escalando `price`"
      ]
    },
    {
      "cell_type": "code",
      "execution_count": null,
      "id": "4f3052ac",
      "metadata": {
        "id": "4f3052ac"
      },
      "outputs": [],
      "source": [
        "# Fijamos la variable independiente\n",
        "X_hypot1_scastd = housedata_hypot1.drop(\"price\",axis=1)\n",
        "# Fijamos la variable dependiente\n",
        "y_hypot1_scastd = housedata_hypot1[\"price\"]"
      ]
    },
    {
      "cell_type": "code",
      "source": [
        "# Escalamos la variable price para hacerla más standard\n",
        "# Se elimina la media y escala a la varianza de la unidad , la puntuación standrd de una muestra x se calcula como\n",
        "# z = (x- u)/s , donde u es la media de las muestras de entrenamiento y s es la desviación de las muestras de entrenamiento.\n",
        "# De esta forma los valores obtenidos tendrán una media de cero y una varianza de uno.\n",
        "# Existen algunas diferencias notables con respecto a la normalización.\n",
        "# En primer lugar los valores obtenidos por la estandarización no están acotados en ningún rango ([0-1] por ejemplo).\n",
        "# En segundo lugar, este método consigue solucionar el problema de valores atípicos u outliers que presenta la normalización\n",
        "\n",
        "from sklearn.preprocessing import StandardScaler\n",
        "scaler = StandardScaler()\n",
        "\n",
        "#Los algoritmos de preprocessing de sklearn están preparados para convertir matrices por lo que tenemos que hacer una transformación\n",
        "# de nuestra variable y,  ya que es una variable de tipo Series\n",
        "# para ello hacemos un .to_numpy que nos convierte la serie en un array y luego hacemos un reshape (-1,1) que transforma un array de 1*n \n",
        "# en una matriz de n*1\n",
        "\n",
        "y_hypot1_scastd = scaler.fit_transform(y_hypot1_scastd.to_numpy().reshape(-1,1))\n",
        "#Volvemos a transformar nuestra variable en un array de 1*n\n",
        "y_hypot1_scastd=y_hypot1_scastd.reshape(1,-1)[0]"
      ],
      "metadata": {
        "id": "-xt3Mjisc5hd"
      },
      "id": "-xt3Mjisc5hd",
      "execution_count": null,
      "outputs": []
    },
    {
      "cell_type": "code",
      "source": [
        "# preparamos train data y test data\n",
        "X_hypot1_scastd_train, X_hypot1_scastd_test, y_hypot1_scastd_train, y_hypot1_scastd_test = train_test_split(X_hypot1_scastd, y_hypot1_scastd, test_size=0.20, random_state=43) "
      ],
      "metadata": {
        "id": "dhEhlsuzd1bU"
      },
      "id": "dhEhlsuzd1bU",
      "execution_count": null,
      "outputs": []
    },
    {
      "cell_type": "code",
      "source": [
        "#Regresion lineal\n",
        "from sklearn.linear_model import LinearRegression\n",
        "regresion_lineal = LinearRegression()\n",
        "regresion_lineal.fit(X_hypot1_scastd_train, y_hypot1_scastd_train)"
      ],
      "metadata": {
        "colab": {
          "base_uri": "https://localhost:8080/"
        },
        "id": "12IB_5zDejrJ",
        "outputId": "574ef136-6342-4673-de5f-937a9be9930b"
      },
      "id": "12IB_5zDejrJ",
      "execution_count": null,
      "outputs": [
        {
          "output_type": "execute_result",
          "data": {
            "text/plain": [
              "LinearRegression()"
            ]
          },
          "metadata": {},
          "execution_count": 87
        }
      ]
    },
    {
      "cell_type": "markdown",
      "source": [
        "### Validación hipótesis 1b"
      ],
      "metadata": {
        "id": "jpM7i4REe50c"
      },
      "id": "jpM7i4REe50c"
    },
    {
      "cell_type": "code",
      "source": [
        "# Probamos la hipótesis con los mismos datos\n",
        "\n",
        "# hypot1_scastd = Hypotesis()\n",
        "# hypot1_scastd.train_model(X=X_hypot1, y=y_hypot1, scaler=MinMaxScaler())\n",
        "# my_hypotesis[\"Hipótesis 1b\"] = hypot1_scastd"
      ],
      "metadata": {
        "id": "NpUp7_G7kHLs"
      },
      "id": "NpUp7_G7kHLs",
      "execution_count": null,
      "outputs": []
    },
    {
      "cell_type": "code",
      "source": [
        "# FASE VALIDACIÓN\n",
        "\n",
        "#predecimos los valores y par los datos usados en el entrenamiento\n",
        "prediccion_entrenamiento = regresion_lineal.predict(X_hypot1_scastd_train)\n",
        "\n",
        "#calculamos el Error Cuadrático Medio (MSE = Mean Squared Error) \n",
        "mse_hypot1_scastd_train = mean_squared_error(y_true = y_hypot1_scastd_train, y_pred = prediccion_entrenamiento)\n",
        "print(\"Error Cuadrático Medio (MSE) HIPO_1_TRAIN =\" + str(mse_hypot1_train))\n",
        "print(\"Error Cuadrático Medio (MSE) HIPO_1b_TRAIN =\" + str(mse_hypot1_scastd_train))\n",
        "\n",
        "#calculamos el Coeficiente R2 (R2_squared = Coeficiente R2) \n",
        "r2_hypot1_scastd_train = r2_score(y_true = y_hypot1_scastd_train, y_pred = prediccion_entrenamiento) # y_pred, no y_hypot1_pred\n",
        "print('Coeficiente R2 (R2) HIPO_1b_TRAIN= ' + str(r2_hypot1_scastd_train))\n",
        "\n",
        "#predecimos los valores y para los datos usados en el entrenamiento\n",
        "prediccion_entrenamiento = regresion_lineal.predict(X_hypot1_scastd_test)\n",
        "\n",
        "#calculamos el Error Cuadrático Medio (MSE = Mean Squared Error) \n",
        "mse_hypot1_scastd_test = mean_squared_error(y_true = y_hypot1_scastd_test, y_pred = prediccion_entrenamiento)\n",
        "print(\"Error Cuadrático Medio (MSE) HIPO_1_TEST =\" + str(mse_hypot1_test))\n",
        "print(\"Error Cuadrático Medio (MSE) HIPO_1b_TEST =\" + str(mse_hypot1_scastd_test))\n",
        "\n",
        "#calculamos el Coeficiente R2 (R2_squared = Coeficiente R2) \n",
        "r2_hypot1_scastd_test = r2_score(y_true = y_hypot1_scastd_test, y_pred = prediccion_entrenamiento) # y_pred, no y_hypot1_pred\n",
        "print('Coeficiente R2 (R2) HIPO_1b_TEST= ' + str(r2_hypot1_scastd_test))"
      ],
      "metadata": {
        "colab": {
          "base_uri": "https://localhost:8080/"
        },
        "id": "kJaiyJ1Ce2u-",
        "outputId": "368777d2-8d11-465c-ccff-64fea4552597"
      },
      "id": "kJaiyJ1Ce2u-",
      "execution_count": null,
      "outputs": [
        {
          "output_type": "stream",
          "name": "stdout",
          "text": [
            "Error Cuadrático Medio (MSE) HIPO_1_TRAIN =292440344586.52783\n",
            "Error Cuadrático Medio (MSE) HIPO_1b_TRAIN =0.9200853158776038\n",
            "Coeficiente R2 (R2) HIPO_1b_TRAIN= 0.1831559125289236\n",
            "Error Cuadrático Medio (MSE) HIPO_1_TEST =74834240836.61484\n",
            "Error Cuadrático Medio (MSE) HIPO_1b_TEST =0.23544592048663046\n",
            "Coeficiente R2 (R2) HIPO_1b_TEST= 0.5231942636659523\n"
          ]
        }
      ]
    },
    {
      "cell_type": "markdown",
      "source": [
        "Al escalar la variable objetivo obtenemos una mejora considerable aproximándonos a 0. \n",
        "\n",
        "Al escalar de manera standard la variable, se elimina la media y escala a la varianza de la unidad , la puntuación standrd de una muestra x se calcula como\n",
        "z = (x- u)/s , donde u es la media de las muestras de entrenamiento y s es la desviación de las muestras de entrenamiento.\n",
        "De esta forma los valores obtenidos tendrán una media de cero y una varianza de uno.\n",
        "Existen algunas diferencias notables con respecto a la normalización.\n",
        "- En primer lugar los valores obtenidos por la estandarización no están acotados en ningún rango ([0-1] por ejemplo).\n",
        "- En segundo lugar, este método consigue solucionar el problema de valores atípicos u outliers que presenta la normalización\n",
        "Escogemos la opción de escalado standard (StandardScaer) frente al escalado normalizado(MinMaxScaler).\n",
        "\n",
        "El Coeficiente R2 cuadrado se ha alejado de 1, también en la variable escalada."
      ],
      "metadata": {
        "id": "Wn4eArVXjFVK"
      },
      "id": "Wn4eArVXjFVK"
    },
    {
      "cell_type": "markdown",
      "id": "7e42415f",
      "metadata": {
        "id": "7e42415f"
      },
      "source": [
        "## Hipótesis 2. Entrenar el modelo trasformando en numéricas las variables categóricas `street`, `statezip`,`city`"
      ]
    },
    {
      "cell_type": "code",
      "source": [
        "# verificamos el contenido de las colmumnas, ya que no debe aparecer los campos 'date' y 'country'\n",
        "housedata.columns"
      ],
      "metadata": {
        "colab": {
          "base_uri": "https://localhost:8080/"
        },
        "id": "u5-Cpj0pn_GC",
        "outputId": "659409eb-426f-4723-df37-7878e3022d73"
      },
      "id": "u5-Cpj0pn_GC",
      "execution_count": null,
      "outputs": [
        {
          "output_type": "execute_result",
          "data": {
            "text/plain": [
              "Index(['price', 'bedrooms', 'bathrooms', 'sqft_living', 'sqft_lot', 'floors',\n",
              "       'waterfront', 'view', 'condition', 'sqft_above', 'sqft_basement',\n",
              "       'yr_built', 'yr_renovated', 'street', 'city', 'statezip'],\n",
              "      dtype='object')"
            ]
          },
          "metadata": {},
          "execution_count": 90
        }
      ]
    },
    {
      "cell_type": "code",
      "source": [
        "#Preparamos el dataset de la hipótesis 2\n",
        "housedata_hypot2 = pd.get_dummies(data = housedata, prefix = \"OHE\", prefix_sep = \"_\", \n",
        "                                       columns = categorical_columns,\n",
        "                                       drop_first = True,\n",
        "                                       dtype = \"int8\")\n",
        "\n",
        "#la función get_dummies convierte variable categóricas en indicador 1, 0 , con la metodología one hot encoding (OHE)"
      ],
      "metadata": {
        "id": "6hvztOC2mpsC"
      },
      "id": "6hvztOC2mpsC",
      "execution_count": null,
      "outputs": []
    },
    {
      "cell_type": "code",
      "source": [
        "housedata_hypot2.head()"
      ],
      "metadata": {
        "colab": {
          "base_uri": "https://localhost:8080/",
          "height": 317
        },
        "id": "RbTKfzHmnezl",
        "outputId": "bde7ff0d-92f0-405d-a8ba-94af9ff594b5"
      },
      "id": "RbTKfzHmnezl",
      "execution_count": null,
      "outputs": [
        {
          "output_type": "execute_result",
          "data": {
            "text/plain": [
              "     price  bedrooms  bathrooms  sqft_living  sqft_lot  floors  waterfront  \\\n",
              "0   313000       3.0       1.50         1340      7912     1.5           0   \n",
              "1  2384000       5.0       2.50         3650      9050     2.0           0   \n",
              "2   342000       3.0       2.00         1930     11947     1.0           0   \n",
              "3   420000       3.0       2.25         2000      8030     1.0           0   \n",
              "4   550000       4.0       2.50         1940     10500     1.0           0   \n",
              "\n",
              "   view  condition  sqft_above  ...  OHE_SeaTac  OHE_Seattle  OHE_Shoreline  \\\n",
              "0     0          3        1340  ...           0            0              1   \n",
              "1     4          5        3370  ...           0            1              0   \n",
              "2     0          4        1930  ...           0            0              0   \n",
              "3     0          4        1000  ...           0            0              0   \n",
              "4     0          4        1140  ...           0            0              0   \n",
              "\n",
              "   OHE_Skykomish  OHE_Snoqualmie  OHE_Snoqualmie Pass  OHE_Tukwila  \\\n",
              "0              0               0                    0            0   \n",
              "1              0               0                    0            0   \n",
              "2              0               0                    0            0   \n",
              "3              0               0                    0            0   \n",
              "4              0               0                    0            0   \n",
              "\n",
              "   OHE_Vashon  OHE_Woodinville  OHE_Yarrow Point  \n",
              "0           0                0                 0  \n",
              "1           0                0                 0  \n",
              "2           0                0                 0  \n",
              "3           0                0                 0  \n",
              "4           0                0                 0  \n",
              "\n",
              "[5 rows x 4656 columns]"
            ],
            "text/html": [
              "\n",
              "  <div id=\"df-591b558c-fa25-4f90-97be-5e26136fa116\">\n",
              "    <div class=\"colab-df-container\">\n",
              "      <div>\n",
              "<style scoped>\n",
              "    .dataframe tbody tr th:only-of-type {\n",
              "        vertical-align: middle;\n",
              "    }\n",
              "\n",
              "    .dataframe tbody tr th {\n",
              "        vertical-align: top;\n",
              "    }\n",
              "\n",
              "    .dataframe thead th {\n",
              "        text-align: right;\n",
              "    }\n",
              "</style>\n",
              "<table border=\"1\" class=\"dataframe\">\n",
              "  <thead>\n",
              "    <tr style=\"text-align: right;\">\n",
              "      <th></th>\n",
              "      <th>price</th>\n",
              "      <th>bedrooms</th>\n",
              "      <th>bathrooms</th>\n",
              "      <th>sqft_living</th>\n",
              "      <th>sqft_lot</th>\n",
              "      <th>floors</th>\n",
              "      <th>waterfront</th>\n",
              "      <th>view</th>\n",
              "      <th>condition</th>\n",
              "      <th>sqft_above</th>\n",
              "      <th>...</th>\n",
              "      <th>OHE_SeaTac</th>\n",
              "      <th>OHE_Seattle</th>\n",
              "      <th>OHE_Shoreline</th>\n",
              "      <th>OHE_Skykomish</th>\n",
              "      <th>OHE_Snoqualmie</th>\n",
              "      <th>OHE_Snoqualmie Pass</th>\n",
              "      <th>OHE_Tukwila</th>\n",
              "      <th>OHE_Vashon</th>\n",
              "      <th>OHE_Woodinville</th>\n",
              "      <th>OHE_Yarrow Point</th>\n",
              "    </tr>\n",
              "  </thead>\n",
              "  <tbody>\n",
              "    <tr>\n",
              "      <th>0</th>\n",
              "      <td>313000</td>\n",
              "      <td>3.0</td>\n",
              "      <td>1.50</td>\n",
              "      <td>1340</td>\n",
              "      <td>7912</td>\n",
              "      <td>1.5</td>\n",
              "      <td>0</td>\n",
              "      <td>0</td>\n",
              "      <td>3</td>\n",
              "      <td>1340</td>\n",
              "      <td>...</td>\n",
              "      <td>0</td>\n",
              "      <td>0</td>\n",
              "      <td>1</td>\n",
              "      <td>0</td>\n",
              "      <td>0</td>\n",
              "      <td>0</td>\n",
              "      <td>0</td>\n",
              "      <td>0</td>\n",
              "      <td>0</td>\n",
              "      <td>0</td>\n",
              "    </tr>\n",
              "    <tr>\n",
              "      <th>1</th>\n",
              "      <td>2384000</td>\n",
              "      <td>5.0</td>\n",
              "      <td>2.50</td>\n",
              "      <td>3650</td>\n",
              "      <td>9050</td>\n",
              "      <td>2.0</td>\n",
              "      <td>0</td>\n",
              "      <td>4</td>\n",
              "      <td>5</td>\n",
              "      <td>3370</td>\n",
              "      <td>...</td>\n",
              "      <td>0</td>\n",
              "      <td>1</td>\n",
              "      <td>0</td>\n",
              "      <td>0</td>\n",
              "      <td>0</td>\n",
              "      <td>0</td>\n",
              "      <td>0</td>\n",
              "      <td>0</td>\n",
              "      <td>0</td>\n",
              "      <td>0</td>\n",
              "    </tr>\n",
              "    <tr>\n",
              "      <th>2</th>\n",
              "      <td>342000</td>\n",
              "      <td>3.0</td>\n",
              "      <td>2.00</td>\n",
              "      <td>1930</td>\n",
              "      <td>11947</td>\n",
              "      <td>1.0</td>\n",
              "      <td>0</td>\n",
              "      <td>0</td>\n",
              "      <td>4</td>\n",
              "      <td>1930</td>\n",
              "      <td>...</td>\n",
              "      <td>0</td>\n",
              "      <td>0</td>\n",
              "      <td>0</td>\n",
              "      <td>0</td>\n",
              "      <td>0</td>\n",
              "      <td>0</td>\n",
              "      <td>0</td>\n",
              "      <td>0</td>\n",
              "      <td>0</td>\n",
              "      <td>0</td>\n",
              "    </tr>\n",
              "    <tr>\n",
              "      <th>3</th>\n",
              "      <td>420000</td>\n",
              "      <td>3.0</td>\n",
              "      <td>2.25</td>\n",
              "      <td>2000</td>\n",
              "      <td>8030</td>\n",
              "      <td>1.0</td>\n",
              "      <td>0</td>\n",
              "      <td>0</td>\n",
              "      <td>4</td>\n",
              "      <td>1000</td>\n",
              "      <td>...</td>\n",
              "      <td>0</td>\n",
              "      <td>0</td>\n",
              "      <td>0</td>\n",
              "      <td>0</td>\n",
              "      <td>0</td>\n",
              "      <td>0</td>\n",
              "      <td>0</td>\n",
              "      <td>0</td>\n",
              "      <td>0</td>\n",
              "      <td>0</td>\n",
              "    </tr>\n",
              "    <tr>\n",
              "      <th>4</th>\n",
              "      <td>550000</td>\n",
              "      <td>4.0</td>\n",
              "      <td>2.50</td>\n",
              "      <td>1940</td>\n",
              "      <td>10500</td>\n",
              "      <td>1.0</td>\n",
              "      <td>0</td>\n",
              "      <td>0</td>\n",
              "      <td>4</td>\n",
              "      <td>1140</td>\n",
              "      <td>...</td>\n",
              "      <td>0</td>\n",
              "      <td>0</td>\n",
              "      <td>0</td>\n",
              "      <td>0</td>\n",
              "      <td>0</td>\n",
              "      <td>0</td>\n",
              "      <td>0</td>\n",
              "      <td>0</td>\n",
              "      <td>0</td>\n",
              "      <td>0</td>\n",
              "    </tr>\n",
              "  </tbody>\n",
              "</table>\n",
              "<p>5 rows × 4656 columns</p>\n",
              "</div>\n",
              "      <button class=\"colab-df-convert\" onclick=\"convertToInteractive('df-591b558c-fa25-4f90-97be-5e26136fa116')\"\n",
              "              title=\"Convert this dataframe to an interactive table.\"\n",
              "              style=\"display:none;\">\n",
              "        \n",
              "  <svg xmlns=\"http://www.w3.org/2000/svg\" height=\"24px\"viewBox=\"0 0 24 24\"\n",
              "       width=\"24px\">\n",
              "    <path d=\"M0 0h24v24H0V0z\" fill=\"none\"/>\n",
              "    <path d=\"M18.56 5.44l.94 2.06.94-2.06 2.06-.94-2.06-.94-.94-2.06-.94 2.06-2.06.94zm-11 1L8.5 8.5l.94-2.06 2.06-.94-2.06-.94L8.5 2.5l-.94 2.06-2.06.94zm10 10l.94 2.06.94-2.06 2.06-.94-2.06-.94-.94-2.06-.94 2.06-2.06.94z\"/><path d=\"M17.41 7.96l-1.37-1.37c-.4-.4-.92-.59-1.43-.59-.52 0-1.04.2-1.43.59L10.3 9.45l-7.72 7.72c-.78.78-.78 2.05 0 2.83L4 21.41c.39.39.9.59 1.41.59.51 0 1.02-.2 1.41-.59l7.78-7.78 2.81-2.81c.8-.78.8-2.07 0-2.86zM5.41 20L4 18.59l7.72-7.72 1.47 1.35L5.41 20z\"/>\n",
              "  </svg>\n",
              "      </button>\n",
              "      \n",
              "  <style>\n",
              "    .colab-df-container {\n",
              "      display:flex;\n",
              "      flex-wrap:wrap;\n",
              "      gap: 12px;\n",
              "    }\n",
              "\n",
              "    .colab-df-convert {\n",
              "      background-color: #E8F0FE;\n",
              "      border: none;\n",
              "      border-radius: 50%;\n",
              "      cursor: pointer;\n",
              "      display: none;\n",
              "      fill: #1967D2;\n",
              "      height: 32px;\n",
              "      padding: 0 0 0 0;\n",
              "      width: 32px;\n",
              "    }\n",
              "\n",
              "    .colab-df-convert:hover {\n",
              "      background-color: #E2EBFA;\n",
              "      box-shadow: 0px 1px 2px rgba(60, 64, 67, 0.3), 0px 1px 3px 1px rgba(60, 64, 67, 0.15);\n",
              "      fill: #174EA6;\n",
              "    }\n",
              "\n",
              "    [theme=dark] .colab-df-convert {\n",
              "      background-color: #3B4455;\n",
              "      fill: #D2E3FC;\n",
              "    }\n",
              "\n",
              "    [theme=dark] .colab-df-convert:hover {\n",
              "      background-color: #434B5C;\n",
              "      box-shadow: 0px 1px 3px 1px rgba(0, 0, 0, 0.15);\n",
              "      filter: drop-shadow(0px 1px 2px rgba(0, 0, 0, 0.3));\n",
              "      fill: #FFFFFF;\n",
              "    }\n",
              "  </style>\n",
              "\n",
              "      <script>\n",
              "        const buttonEl =\n",
              "          document.querySelector('#df-591b558c-fa25-4f90-97be-5e26136fa116 button.colab-df-convert');\n",
              "        buttonEl.style.display =\n",
              "          google.colab.kernel.accessAllowed ? 'block' : 'none';\n",
              "\n",
              "        async function convertToInteractive(key) {\n",
              "          const element = document.querySelector('#df-591b558c-fa25-4f90-97be-5e26136fa116');\n",
              "          const dataTable =\n",
              "            await google.colab.kernel.invokeFunction('convertToInteractive',\n",
              "                                                     [key], {});\n",
              "          if (!dataTable) return;\n",
              "\n",
              "          const docLinkHtml = 'Like what you see? Visit the ' +\n",
              "            '<a target=\"_blank\" href=https://colab.research.google.com/notebooks/data_table.ipynb>data table notebook</a>'\n",
              "            + ' to learn more about interactive tables.';\n",
              "          element.innerHTML = '';\n",
              "          dataTable['output_type'] = 'display_data';\n",
              "          await google.colab.output.renderOutput(dataTable, element);\n",
              "          const docLink = document.createElement('div');\n",
              "          docLink.innerHTML = docLinkHtml;\n",
              "          element.appendChild(docLink);\n",
              "        }\n",
              "      </script>\n",
              "    </div>\n",
              "  </div>\n",
              "  "
            ]
          },
          "metadata": {},
          "execution_count": 92
        }
      ]
    },
    {
      "cell_type": "code",
      "execution_count": null,
      "id": "d21a08b6",
      "metadata": {
        "id": "d21a08b6",
        "outputId": "e1930730-4054-48a8-fafc-ac72be79b56e",
        "colab": {
          "base_uri": "https://localhost:8080/"
        }
      },
      "outputs": [
        {
          "output_type": "stream",
          "name": "stdout",
          "text": [
            "X shape (4600, 4655)\n",
            "y shape (4600,)\n"
          ]
        }
      ],
      "source": [
        "# Preparamos el dataset para la hipótesis 2\n",
        "\n",
        "# Fijamos la variable independiente\n",
        "X_hypot2 = housedata_hypot2.drop(\"price\",axis=1)\n",
        "# Fijamos la variable dependiente\n",
        "y_hypot2 = housedata_hypot2[\"price\"]\n",
        "\n",
        "print(\"X shape\", X_hypot2.shape)\n",
        "print(\"y shape\", y_hypot2.shape)"
      ]
    },
    {
      "cell_type": "code",
      "source": [
        "housedata_hypot2.columns"
      ],
      "metadata": {
        "colab": {
          "base_uri": "https://localhost:8080/"
        },
        "id": "yzKu3N6905sU",
        "outputId": "45b1008b-1df4-4b16-e189-be33c77315f9"
      },
      "id": "yzKu3N6905sU",
      "execution_count": null,
      "outputs": [
        {
          "output_type": "execute_result",
          "data": {
            "text/plain": [
              "Index(['price', 'bedrooms', 'bathrooms', 'sqft_living', 'sqft_lot', 'floors',\n",
              "       'waterfront', 'view', 'condition', 'sqft_above',\n",
              "       ...\n",
              "       'OHE_SeaTac', 'OHE_Seattle', 'OHE_Shoreline', 'OHE_Skykomish',\n",
              "       'OHE_Snoqualmie', 'OHE_Snoqualmie Pass', 'OHE_Tukwila', 'OHE_Vashon',\n",
              "       'OHE_Woodinville', 'OHE_Yarrow Point'],\n",
              "      dtype='object', length=4656)"
            ]
          },
          "metadata": {},
          "execution_count": 94
        }
      ]
    },
    {
      "cell_type": "code",
      "source": [
        "# preparamos train data y test data\n",
        "from sklearn.model_selection import train_test_split\n",
        "X_hypot2_train, X_hypot2_test, y_hypot2_train, y_hypot2_test = train_test_split(X_hypot2, y_hypot2, test_size=0.20, random_state=43) "
      ],
      "metadata": {
        "id": "r8BvRP1Kpv4h"
      },
      "id": "r8BvRP1Kpv4h",
      "execution_count": null,
      "outputs": []
    },
    {
      "cell_type": "code",
      "source": [
        "housedata_hypot2.info()"
      ],
      "metadata": {
        "colab": {
          "base_uri": "https://localhost:8080/"
        },
        "id": "IUAQpLHI-5Ou",
        "outputId": "c190ece8-8867-466d-c5b4-3bf48532dd20"
      },
      "id": "IUAQpLHI-5Ou",
      "execution_count": null,
      "outputs": [
        {
          "output_type": "stream",
          "name": "stdout",
          "text": [
            "<class 'pandas.core.frame.DataFrame'>\n",
            "RangeIndex: 4600 entries, 0 to 4599\n",
            "Columns: 4656 entries, price to OHE_Yarrow Point\n",
            "dtypes: float64(3), int64(10), int8(4643)\n",
            "memory usage: 20.8 MB\n"
          ]
        }
      ]
    },
    {
      "cell_type": "code",
      "source": [
        " #Regresión lineal\n",
        "from sklearn.linear_model import LinearRegression\n",
        "regresion_lineal = LinearRegression()\n",
        "regresion_lineal.fit(X_hypot2_train, y_hypot2_train) "
      ],
      "metadata": {
        "colab": {
          "base_uri": "https://localhost:8080/"
        },
        "id": "SsKPzdsPqCQ6",
        "outputId": "9bc712c7-fb31-4bfc-ff56-8f35119c9d73"
      },
      "id": "SsKPzdsPqCQ6",
      "execution_count": null,
      "outputs": [
        {
          "output_type": "execute_result",
          "data": {
            "text/plain": [
              "LinearRegression()"
            ]
          },
          "metadata": {},
          "execution_count": 106
        }
      ]
    },
    {
      "cell_type": "markdown",
      "source": [
        "### Validación hipótesis 2"
      ],
      "metadata": {
        "id": "YbIcyK9erZ71"
      },
      "id": "YbIcyK9erZ71"
    },
    {
      "cell_type": "code",
      "execution_count": null,
      "id": "95f095be",
      "metadata": {
        "id": "95f095be",
        "outputId": "fd27bce4-acaf-4318-e2dd-10f3b64ca80a",
        "colab": {
          "base_uri": "https://localhost:8080/"
        }
      },
      "outputs": [
        {
          "output_type": "stream",
          "name": "stdout",
          "text": [
            "Error Cuadrático Medio (MSE) HIPO_1_TRAIN =292440344586.52783\n",
            "Error Cuadrático Medio (MSE) HIPO_2_TRAIN =296832108.93929946\n",
            "Coeficiente R2 (R2) HIPO_2_TRAIN= 0.9991708888405891\n",
            "Error Cuadrático Medio (MSE) HIPO_1_TEST =74834240836.61484\n",
            "Error Cuadrático Medio (MSE) HIPO_2_TEST =17522262691131.45\n",
            "Coeficiente R2 (R2) HIPO_2_TEST= -110.64294942105663\n"
          ]
        }
      ],
      "source": [
        "# FASE VALIDACIÓN\n",
        "\n",
        "#predecimos los valores y par los datos usados en el entrenamiento\n",
        "prediccion_entrenamiento = regresion_lineal.predict(X_hypot2_train)\n",
        "\n",
        "#calculamos el Error Cuadrático Medio (MSE = Mean Squared Error) \n",
        "mse_hypot2_train = mean_squared_error(y_true = y_hypot2_train, y_pred = prediccion_entrenamiento)\n",
        "print(\"Error Cuadrático Medio (MSE) HIPO_1_TRAIN =\" + str(mse_hypot1_train))\n",
        "print(\"Error Cuadrático Medio (MSE) HIPO_2_TRAIN =\" + str(mse_hypot2_train))\n",
        "\n",
        "#calculamos el Coeficiente R2 (R2_squared = Coeficiente R2) \n",
        "r2_hypot2_train = r2_score(y_true = y_hypot2_train, y_pred = prediccion_entrenamiento) # y_pred, no y_hypot1_pred\n",
        "print('Coeficiente R2 (R2) HIPO_2_TRAIN= ' + str(r2_hypot2_train))\n",
        "\n",
        "#predecimos los valores y para los datos usados en el entrenamiento\n",
        "prediccion_entrenamiento = regresion_lineal.predict(X_hypot2_test)\n",
        "\n",
        "#calculamos el Error Cuadrático Medio (MSE = Mean Squared Error) \n",
        "mse_hypot2_test = mean_squared_error(y_true = y_hypot2_test, y_pred = prediccion_entrenamiento)\n",
        "print(\"Error Cuadrático Medio (MSE) HIPO_1_TEST =\" + str(mse_hypot1_test))\n",
        "print(\"Error Cuadrático Medio (MSE) HIPO_2_TEST =\" + str(mse_hypot2_test))\n",
        "\n",
        "#calculamos el Coeficiente R2 (R2_squared = Coeficiente R2) \n",
        "r2_hypot2_test = r2_score(y_true = y_hypot2_test, y_pred = prediccion_entrenamiento) \n",
        "print('Coeficiente R2 (R2) HIPO_2_TEST= ' + str(r2_hypot2_test))"
      ]
    },
    {
      "cell_type": "markdown",
      "id": "e0cd51a2",
      "metadata": {
        "id": "e0cd51a2"
      },
      "source": [
        "### Hipótesis 2b. Escalando `price`"
      ]
    },
    {
      "cell_type": "code",
      "execution_count": null,
      "id": "41bd7bed",
      "metadata": {
        "id": "41bd7bed"
      },
      "outputs": [],
      "source": [
        "# Fijamos la variable independiente\n",
        "X_hypot2_scastd = housedata_hypot2.drop(\"price\",axis=1)\n",
        "# Fijamos la variable dependiente\n",
        "y_hypot2_scastd = housedata_hypot2[\"price\"]"
      ]
    },
    {
      "cell_type": "code",
      "source": [
        "# Escalamos la variable price para hacerla standard\n",
        "\n",
        "from sklearn.preprocessing import StandardScaler\n",
        "scaler = StandardScaler()\n",
        "\n",
        "#Ver escalado hipótesis 1b\n",
        "\n",
        "y_hypot2_scastd = scaler.fit_transform(y_hypot2_scastd.to_numpy().reshape(-1,1))\n",
        "#Volvemos a transformar nuestra variable en un array de 1*n\n",
        "y_hypot2_scastd=y_hypot2_scastd.reshape(1,-1)[0]"
      ],
      "metadata": {
        "id": "XECc_dDjs1wC"
      },
      "id": "XECc_dDjs1wC",
      "execution_count": null,
      "outputs": []
    },
    {
      "cell_type": "code",
      "source": [
        "# preparamos train data y test data\n",
        "X_hypot2_scastd_train, X_hypot2_scastd_test, y_hypot2_scastd_train, y_hypot2_scastd_test = train_test_split(X_hypot2_scastd, y_hypot2_scastd, test_size=0.20, random_state=43) "
      ],
      "metadata": {
        "id": "gZzYU-z2tTeg"
      },
      "id": "gZzYU-z2tTeg",
      "execution_count": null,
      "outputs": []
    },
    {
      "cell_type": "code",
      "source": [
        "#Regresion lineal\n",
        "from sklearn.linear_model import LinearRegression\n",
        "regresion_lineal = LinearRegression()\n",
        "regresion_lineal.fit(X_hypot2_scastd_train, y_hypot2_scastd_train)"
      ],
      "metadata": {
        "colab": {
          "base_uri": "https://localhost:8080/"
        },
        "id": "CEudwWMXtnID",
        "outputId": "9da802c4-2875-4da3-fce5-2c39d6721f7a"
      },
      "id": "CEudwWMXtnID",
      "execution_count": null,
      "outputs": [
        {
          "output_type": "execute_result",
          "data": {
            "text/plain": [
              "LinearRegression()"
            ]
          },
          "metadata": {},
          "execution_count": 111
        }
      ]
    },
    {
      "cell_type": "code",
      "source": [
        "# FASE VALIDACIÓN\n",
        "\n",
        "#predecimos los valores y par los datos usados en el entrenamiento\n",
        "prediccion_entrenamiento = regresion_lineal.predict(X_hypot2_scastd_train)\n",
        "\n",
        "#calculamos el Error Cuadrático Medio (MSE = Mean Squared Error) \n",
        "mse_hypot2_scastd_train = mean_squared_error(y_true = y_hypot2_scastd_train, y_pred = prediccion_entrenamiento)\n",
        "\n",
        "print(\"Error Cuadrático Medio (MSE) HIPO_2b_TRAIN =\" + str(mse_hypot2_scastd_train))\n",
        "\n",
        "#predecimos los valores y para los datos usados en el entrenamiento\n",
        "prediccion_entrenamiento = regresion_lineal.predict(X_hypot2_scastd_test)\n",
        "\n",
        "#calculamos el Error Cuadrático Medio (MSE = Mean Squared Error) \n",
        "mse_hypot2_scastd_test = mean_squared_error(y_true = y_hypot2_scastd_test, y_pred = prediccion_entrenamiento)\n",
        "\n",
        "print(\"Error Cuadrático Medio (MSE) HIPO_2b_TEST =\" + str(mse_hypot2_scastd_test))"
      ],
      "metadata": {
        "colab": {
          "base_uri": "https://localhost:8080/"
        },
        "id": "2zmxE2iTt1GZ",
        "outputId": "ed7678a7-d38b-4621-f9a2-d3dc7eafd708"
      },
      "id": "2zmxE2iTt1GZ",
      "execution_count": null,
      "outputs": [
        {
          "output_type": "stream",
          "name": "stdout",
          "text": [
            "Error Cuadrático Medio (MSE) HIPO_2b_TRAIN =0.0009339028276080501\n",
            "Error Cuadrático Medio (MSE) HIPO_2b_TEST =55.12911231812093\n"
          ]
        }
      ]
    },
    {
      "cell_type": "markdown",
      "source": [
        "Al escalar la variable, sale un error menor que sin escalar.\n",
        "Sin embargo, al incluir las variables categóricas `city`, `street` y `statezip` empeora el error MSE con respecto a sino las incluimos. Esto querrá decir un exceso de variables o variables independientes que dependen entre ellas. Por tanto , probaremos la hipótesis de sólo incluir `statezip` y nos deshacemos del resto de variables categóricas."
      ],
      "metadata": {
        "id": "RRmUnP2nuqeH"
      },
      "id": "RRmUnP2nuqeH"
    },
    {
      "cell_type": "markdown",
      "id": "2bf507c0",
      "metadata": {
        "id": "2bf507c0"
      },
      "source": [
        "## Hipótesis 3. Entrenar el modelo sólo con la variable categórica `statezip`"
      ]
    },
    {
      "cell_type": "code",
      "source": [
        "# verificamos el contenido de las colmumnas, ya que no debe aparecer los campos 'date' y 'country'\n",
        "housedata.columns"
      ],
      "metadata": {
        "colab": {
          "base_uri": "https://localhost:8080/"
        },
        "id": "ukUYgrasWgJp",
        "outputId": "5c809e7f-f0dc-49cd-c0bf-86cd1c87e535"
      },
      "id": "ukUYgrasWgJp",
      "execution_count": null,
      "outputs": [
        {
          "output_type": "execute_result",
          "data": {
            "text/plain": [
              "Index(['price', 'bedrooms', 'bathrooms', 'sqft_living', 'sqft_lot', 'floors',\n",
              "       'waterfront', 'view', 'condition', 'sqft_above', 'sqft_basement',\n",
              "       'yr_built', 'yr_renovated', 'street', 'city', 'statezip'],\n",
              "      dtype='object')"
            ]
          },
          "metadata": {},
          "execution_count": 113
        }
      ]
    },
    {
      "cell_type": "code",
      "source": [
        "categorical_columns = [\"statezip\"]"
      ],
      "metadata": {
        "id": "d1ikbvrhfMWG"
      },
      "id": "d1ikbvrhfMWG",
      "execution_count": null,
      "outputs": []
    },
    {
      "cell_type": "code",
      "source": [
        "#Preparamos el dataset de la hipótesis 3\n",
        "categorical_columns = [\"statezip\"]\n",
        "housedata_hypot3 = pd.get_dummies(data = housedata, prefix = \"OHE\", prefix_sep = \"_\", \n",
        "                                       columns = categorical_columns,\n",
        "                                       drop_first = True,\n",
        "                                       dtype = \"int8\")\n",
        "housedata_hypot3 = housedata_hypot3.drop(\"street\", axis=1)\n",
        "housedata_hypot3 = housedata_hypot3.drop(\"city\", axis=1)\n",
        "#la función get_dummies convierte variable categóricas en indicador 1, 0 , con la metodología one hot encoding (OHE"
      ],
      "metadata": {
        "id": "sAvcHayjyiH2"
      },
      "id": "sAvcHayjyiH2",
      "execution_count": null,
      "outputs": []
    },
    {
      "cell_type": "code",
      "source": [
        "# verificamos el contenido de las colmumnas, ya que no debe aparecer los campos 'date' y 'country'\n",
        "housedata_hypot3.columns"
      ],
      "metadata": {
        "colab": {
          "base_uri": "https://localhost:8080/"
        },
        "id": "US6Gtc9cyK-w",
        "outputId": "f67397ef-549d-4a8d-d948-b7a1c339f63b"
      },
      "id": "US6Gtc9cyK-w",
      "execution_count": null,
      "outputs": [
        {
          "output_type": "execute_result",
          "data": {
            "text/plain": [
              "Index(['price', 'bedrooms', 'bathrooms', 'sqft_living', 'sqft_lot', 'floors',\n",
              "       'waterfront', 'view', 'condition', 'sqft_above', 'sqft_basement',\n",
              "       'yr_built', 'yr_renovated', 'OHE_WA 98002', 'OHE_WA 98003',\n",
              "       'OHE_WA 98004', 'OHE_WA 98005', 'OHE_WA 98006', 'OHE_WA 98007',\n",
              "       'OHE_WA 98008', 'OHE_WA 98010', 'OHE_WA 98011', 'OHE_WA 98014',\n",
              "       'OHE_WA 98019', 'OHE_WA 98022', 'OHE_WA 98023', 'OHE_WA 98024',\n",
              "       'OHE_WA 98027', 'OHE_WA 98028', 'OHE_WA 98029', 'OHE_WA 98030',\n",
              "       'OHE_WA 98031', 'OHE_WA 98032', 'OHE_WA 98033', 'OHE_WA 98034',\n",
              "       'OHE_WA 98038', 'OHE_WA 98039', 'OHE_WA 98040', 'OHE_WA 98042',\n",
              "       'OHE_WA 98045', 'OHE_WA 98047', 'OHE_WA 98050', 'OHE_WA 98051',\n",
              "       'OHE_WA 98052', 'OHE_WA 98053', 'OHE_WA 98055', 'OHE_WA 98056',\n",
              "       'OHE_WA 98057', 'OHE_WA 98058', 'OHE_WA 98059', 'OHE_WA 98065',\n",
              "       'OHE_WA 98068', 'OHE_WA 98070', 'OHE_WA 98072', 'OHE_WA 98074',\n",
              "       'OHE_WA 98075', 'OHE_WA 98077', 'OHE_WA 98092', 'OHE_WA 98102',\n",
              "       'OHE_WA 98103', 'OHE_WA 98105', 'OHE_WA 98106', 'OHE_WA 98107',\n",
              "       'OHE_WA 98108', 'OHE_WA 98109', 'OHE_WA 98112', 'OHE_WA 98115',\n",
              "       'OHE_WA 98116', 'OHE_WA 98117', 'OHE_WA 98118', 'OHE_WA 98119',\n",
              "       'OHE_WA 98122', 'OHE_WA 98125', 'OHE_WA 98126', 'OHE_WA 98133',\n",
              "       'OHE_WA 98136', 'OHE_WA 98144', 'OHE_WA 98146', 'OHE_WA 98148',\n",
              "       'OHE_WA 98155', 'OHE_WA 98166', 'OHE_WA 98168', 'OHE_WA 98177',\n",
              "       'OHE_WA 98178', 'OHE_WA 98188', 'OHE_WA 98198', 'OHE_WA 98199',\n",
              "       'OHE_WA 98288', 'OHE_WA 98354'],\n",
              "      dtype='object')"
            ]
          },
          "metadata": {},
          "execution_count": 116
        }
      ]
    },
    {
      "cell_type": "code",
      "execution_count": null,
      "id": "9b90a19c",
      "metadata": {
        "id": "9b90a19c",
        "outputId": "0e2564a5-eba4-4ee8-9b99-5e2335540a3d",
        "colab": {
          "base_uri": "https://localhost:8080/"
        }
      },
      "outputs": [
        {
          "output_type": "stream",
          "name": "stdout",
          "text": [
            "X shape (4600, 88)\n",
            "y shape (4600,)\n"
          ]
        }
      ],
      "source": [
        "# Preparamos el dataset para la hipótesis 3\n",
        "\n",
        "# Fijamos la variable independiente\n",
        "X_hypot3 = housedata_hypot3.drop(\"price\",axis=1)\n",
        "# Fijamos la variable dependiente\n",
        "y_hypot3 = housedata_hypot3[\"price\"]\n",
        "\n",
        "print(\"X shape\", X_hypot3.shape)\n",
        "print(\"y shape\", y_hypot3.shape)"
      ]
    },
    {
      "cell_type": "code",
      "source": [
        "# preparamos train data y test data\n",
        "from sklearn.model_selection import train_test_split\n",
        "X_hypot3_train, X_hypot3_test, y_hypot3_train, y_hypot3_test = train_test_split(X_hypot3, y_hypot3, test_size=0.20, random_state=43) "
      ],
      "metadata": {
        "id": "XnslmBWDz49e"
      },
      "id": "XnslmBWDz49e",
      "execution_count": null,
      "outputs": []
    },
    {
      "cell_type": "code",
      "execution_count": null,
      "id": "6c7bc127",
      "metadata": {
        "id": "6c7bc127",
        "outputId": "859abb11-0b51-4e36-8f73-a2a0e23a8a3f",
        "colab": {
          "base_uri": "https://localhost:8080/"
        }
      },
      "outputs": [
        {
          "output_type": "execute_result",
          "data": {
            "text/plain": [
              "LinearRegression()"
            ]
          },
          "metadata": {},
          "execution_count": 119
        }
      ],
      "source": [
        "#Regresión lineal\n",
        "from sklearn.linear_model import LinearRegression\n",
        "regresion_lineal = LinearRegression()\n",
        "regresion_lineal.fit(X_hypot3_train, y_hypot3_train) "
      ]
    },
    {
      "cell_type": "markdown",
      "source": [
        "### Validación hipótesis 3"
      ],
      "metadata": {
        "id": "5WurI5RXZhQc"
      },
      "id": "5WurI5RXZhQc"
    },
    {
      "cell_type": "code",
      "source": [
        "# FASE VALIDACIÓN\n",
        "\n",
        "#predecimos los valores y par los datos usados en el entrenamiento\n",
        "prediccion_entrenamiento = regresion_lineal.predict(X_hypot3_train)\n",
        "\n",
        "#calculamos el Error Cuadrático Medio (MSE = Mean Squared Error) \n",
        "mse_hypot3_train = mean_squared_error(y_true = y_hypot3_train, y_pred = prediccion_entrenamiento)\n",
        "print(\"Error Cuadrático Medio (MSE) HIPO_1_TRAIN =\" + str(mse_hypot1_train))\n",
        "print(\"Error Cuadrático Medio (MSE) HIPO_2_TRAIN =\" + str(mse_hypot2_train))\n",
        "print(\"Error Cuadrático Medio (MSE) HIPO_3_TRAIN =\" + str(mse_hypot3_train))\n",
        "\n",
        "#calculamos el Coeficiente R2 (R2_squared = Coeficiente R2) \n",
        "r2_hypot3_train = r2_score(y_true = y_hypot2_train, y_pred = prediccion_entrenamiento) # y_pred, no y_hypot1_pred\n",
        "print('Coeficiente R2 (R2) HIPO_3_TRAIN= ' + str(r2_hypot3_train))\n",
        "\n",
        "#predecimos los valores y para los datos usados en el entrenamiento\n",
        "prediccion_entrenamiento = regresion_lineal.predict(X_hypot3_test)\n",
        "\n",
        "#calculamos el Error Cuadrático Medio (MSE = Mean Squared Error) \n",
        "mse_hypot3_test = mean_squared_error(y_true = y_hypot3_test, y_pred = prediccion_entrenamiento)\n",
        "print(\"Error Cuadrático Medio (MSE) HIPO_1_TEST =\" + str(mse_hypot1_test))\n",
        "print(\"Error Cuadrático Medio (MSE) HIPO_2_TEST =\" + str(mse_hypot2_test))\n",
        "print(\"Error Cuadrático Medio (MSE) HIPO_3_TEST =\" + str(mse_hypot3_test))\n",
        "\n",
        "#calculamos el Coeficiente R2 (R2_squared = Coeficiente R2) \n",
        "r2_hypot3_test = r2_score(y_true = y_hypot3_test, y_pred = prediccion_entrenamiento) \n",
        "print('Coeficiente R2 (R2) HIPO_3_TEST= ' + str(r2_hypot3_test))"
      ],
      "metadata": {
        "colab": {
          "base_uri": "https://localhost:8080/"
        },
        "id": "ZkJ0GdLuZnOa",
        "outputId": "db561d46-1b4e-4600-8edb-466fc984d81a"
      },
      "id": "ZkJ0GdLuZnOa",
      "execution_count": null,
      "outputs": [
        {
          "output_type": "stream",
          "name": "stdout",
          "text": [
            "Error Cuadrático Medio (MSE) HIPO_1_TRAIN =292440344586.52783\n",
            "Error Cuadrático Medio (MSE) HIPO_2_TRAIN =296832108.93929946\n",
            "Error Cuadrático Medio (MSE) HIPO_3_TRAIN =263668377732.80823\n",
            "Coeficiente R2 (R2) HIPO_3_TRAIN= 0.263521742498806\n",
            "Error Cuadrático Medio (MSE) HIPO_1_TEST =74834240836.61484\n",
            "Error Cuadrático Medio (MSE) HIPO_2_TEST =17522262691131.45\n",
            "Error Cuadrático Medio (MSE) HIPO_3_TEST =52423257687.320885\n",
            "Coeficiente R2 (R2) HIPO_3_TEST= 0.6659856543849896\n"
          ]
        }
      ]
    },
    {
      "cell_type": "markdown",
      "source": [
        "Error cuadrático muy grande, mejora respecto a la hipótesis 2, por la reducción de variables.\n",
        "El coeficiente de R2 de la hipótesis 3, empeora respecto a la hipótesis 2."
      ],
      "metadata": {
        "id": "Tz0XCXEkaawU"
      },
      "id": "Tz0XCXEkaawU"
    },
    {
      "cell_type": "markdown",
      "id": "8151d57c",
      "metadata": {
        "id": "8151d57c"
      },
      "source": [
        "### Hipótesis 3b. Escalando `price`"
      ]
    },
    {
      "cell_type": "code",
      "execution_count": null,
      "id": "36c74d78",
      "metadata": {
        "id": "36c74d78"
      },
      "outputs": [],
      "source": [
        "# Probamos la hipótesis con los mismos datos\n",
        "\n",
        "# Fijamos la variable independiente\n",
        "X_hypot3_scastd = housedata_hypot3.drop(\"price\",axis=1)\n",
        "# Fijamos la variable dependiente\n",
        "y_hypot3_scastd = housedata_hypot3[\"price\"]\n",
        "\n"
      ]
    },
    {
      "cell_type": "code",
      "source": [
        "# Escalamos la variable price para hacerla standard\n",
        "\n",
        "from sklearn.preprocessing import StandardScaler\n",
        "scaler = StandardScaler()\n",
        "\n",
        "#Ver escalado hipótesis 1b\n",
        "\n",
        "y_hypot3_scastd = scaler.fit_transform(y_hypot3_scastd.to_numpy().reshape(-1,1))\n",
        "#Volvemos a transformar nuestra variable en un array de 1*n\n",
        "y_hypot3_scastd=y_hypot3_scastd.reshape(1,-1)[0]\n"
      ],
      "metadata": {
        "id": "HG46vhYoPtz6"
      },
      "id": "HG46vhYoPtz6",
      "execution_count": null,
      "outputs": []
    },
    {
      "cell_type": "code",
      "source": [
        "# preparamos train data y test data\n",
        "X_hypot3_scastd_train, X_hypot3_scastd_test, y_hypot3_scastd_train, y_hypot3_scastd_test = train_test_split(X_hypot3_scastd, y_hypot3_scastd, test_size=0.20, random_state=43) "
      ],
      "metadata": {
        "id": "bVf46cC5UirL"
      },
      "id": "bVf46cC5UirL",
      "execution_count": null,
      "outputs": []
    },
    {
      "cell_type": "code",
      "source": [
        "#Regresión lineal\n",
        "from sklearn.linear_model import LinearRegression\n",
        "regresion_lineal = LinearRegression()\n",
        "regresion_lineal.fit(X_hypot3_train, y_hypot3_train) "
      ],
      "metadata": {
        "id": "DOjYYCm3U35r"
      },
      "id": "DOjYYCm3U35r",
      "execution_count": null,
      "outputs": []
    },
    {
      "cell_type": "code",
      "source": [
        "# FASE VALIDACIÓN\n",
        "\n",
        "#predecimos los valores y par los datos usados en el entrenamiento\n",
        "prediccion_entrenamiento = regresion_lineal.predict(X_hypot3_scastd_train)\n",
        "\n",
        "#calculamos el Error Cuadrático Medio (MSE = Mean Squared Error) \n",
        "mse_hypot3_scastd_train = mean_squared_error(y_true = y_hypot3_scastd_train, y_pred = prediccion_entrenamiento)\n",
        "print(\"Error Cuadrático Medio (MSE) HIPO_1_TRAIN =\" + str(mse_hypot1_train))\n",
        "print(\"Error Cuadrático Medio (MSE) HIPO_1b_TRAIN =\" + str(mse_hypot1_scastd_train))\n",
        "print(\"Error Cuadrático Medio (MSE) HIPO_2_TRAIN =\" + str(mse_hypot2_train))\n",
        "print(\"Error Cuadrático Medio (MSE) HIPO_2b_TRAIN =\" + str(mse_hypot2_scastd_train))\n",
        "print(\"Error Cuadrático Medio (MSE) HIPO_3_TRAIN =\" + str(mse_hypot3_train))\n",
        "print(\"Error Cuadrático Medio (MSE) HIPO_3b_TRAIN =\" + str(mse_hypot3_scastd_train))\n",
        "\n",
        "#predecimos los valores y para los datos usados en el entrenamiento\n",
        "prediccion_entrenamiento = regresion_lineal.predict(X_hypot3_scastd_test)\n",
        "\n",
        "#calculamos el Error Cuadrático Medio (MSE = Mean Squared Error) \n",
        "mse_hypot3_scastd_test = mean_squared_error(y_true = y_hypot3_scastd_test, y_pred = prediccion_entrenamiento)\n",
        "print(\"Error Cuadrático Medio (MSE) HIPO_1_TEST =\" + str(mse_hypot1_test))\n",
        "print(\"Error Cuadrático Medio (MSE) HIPO_1b_TEST =\" + str(mse_hypot1_scastd_test))\n",
        "print(\"Error Cuadrático Medio (MSE) HIPO_2_TEST =\" + str(mse_hypot2_test))\n",
        "print(\"Error Cuadrático Medio (MSE) HIPO_2b_TEST =\" + str(mse_hypot2_scastd_test))\n",
        "print(\"Error Cuadrático Medio (MSE) HIPO_3_TEST =\" + str(mse_hypot3_test))\n",
        "print(\"Error Cuadrático Medio (MSE) HIPO_3b_TEST =\" + str(mse_hypot3_scastd_test))"
      ],
      "metadata": {
        "id": "FMWf-7KRVWWm"
      },
      "id": "FMWf-7KRVWWm",
      "execution_count": null,
      "outputs": []
    },
    {
      "cell_type": "code",
      "source": [
        "# hypot3_scastd = Hypotesis()\n",
        "# hypot3_scastd.train_model(X=X_hypot3_scastd, y=y_hypot3_scastd, scaler=StandardScaler())\n",
        "# my_hypotesis[\"Hipótesis 3b\"] = hypot3_scastd"
      ],
      "metadata": {
        "id": "A9b5yB7RTcv2"
      },
      "id": "A9b5yB7RTcv2",
      "execution_count": null,
      "outputs": []
    },
    {
      "cell_type": "markdown",
      "id": "bcbe734b",
      "metadata": {
        "id": "bcbe734b"
      },
      "source": [
        "# Evaluar los distintos modelos de regresión entrenados"
      ]
    },
    {
      "cell_type": "code",
      "execution_count": null,
      "id": "1d79b3c1",
      "metadata": {
        "id": "1d79b3c1"
      },
      "outputs": [],
      "source": [
        "# Resumen de los determinados errores obtenidos\n",
        "\n",
        "name_list = np.array(my_hypotesis.keys())\n",
        "mse_train_list = np.array([h.mse_train for h in my_hypotesis.values()])\n",
        "mse_test_list = np.array([h.mse_test for h in my_hypotesis.values()])\n",
        "\n",
        "errors = pd.DataFrame(\n",
        " {\"name\": name_list, \"mse_train\": mse_train_list, \"mse_test\":mse_test_list}   \n",
        ")\n"
      ]
    },
    {
      "cell_type": "code",
      "execution_count": null,
      "id": "a5e9b9dd",
      "metadata": {
        "id": "a5e9b9dd"
      },
      "outputs": [],
      "source": [
        "# Visualización de los distintos errores\n",
        "\n",
        "fif, axes = plt.subplots(nrows=1, ncols=2, figsize=(18,5))\n",
        "\n",
        "plt_train = axes[0]\n",
        "plt_train.set_title(\"Train MSE\")\n",
        "\n",
        "plt_test = axes[1]\n",
        "plt_test.set_title(\"Test MSE\")\n",
        "\n",
        "sns.barplot(\n",
        "    ax=plt_train, \n",
        "    data=errors.nsmallest(len(errors), \"mse_train\"),\n",
        "    y=\"name\", x=\"mse_train\",\n",
        "    palette=[\"lightgreen\"] + [\"lightgrey\"]*(len(errors) - 1),\n",
        ").set(xlabel=\"\", ylabel=\"\")\n",
        "\n",
        "plt_train.bar_label(plt_train.containers[0],fmt='%.3f', label_type='center')\n",
        "\n",
        "sns.barplot(\n",
        "    ax=plt_test, \n",
        "    data=errors.nsmallest(len(errors), \"mse_test\"),\n",
        "    y=\"name\", x=\"mse_test\",\n",
        "    palette=[\"lightgreen\"] + [\"lightgrey\"]*(len(errors) - 1)\n",
        ").set(xlabel=\"\", ylabel=\"\")\n",
        "plt_test.bar_label(plt_train.containers[0],fmt='%.3f', label_type='center')\n",
        "   \n",
        "\n",
        "plt_train.set_xscale(\"log\")\n",
        "plt_test.set_xscale(\"log\")\n",
        "\n",
        "fig.tight_layout(pad=10.0)"
      ]
    },
    {
      "cell_type": "markdown",
      "id": "e3b3824a",
      "metadata": {
        "id": "e3b3824a"
      },
      "source": [
        "<div class=\"alert alert-success\">\n",
        "    La Hipótesis 2b es la mejor, formulada como:\n",
        "    <blockquote>\n",
        "        Usar todas las variables proporcionadas, codificando las variables categóricas mediante la técnica <em>One Hot Encoding</em> y escalando la variable objetivo (<em>price</em>).\n",
        "        \n",
        "    </blockquote>\n",
        "</div>"
      ]
    },
    {
      "cell_type": "markdown",
      "id": "509687df",
      "metadata": {
        "id": "509687df"
      },
      "source": [
        "# Conclusiones\n",
        "\n",
        "En este ejercicio hemos formulado varias hipótesis de entrenamiento para un modelo de regresión que nos permita predecir el precio de una vivienda.\n",
        "\n",
        "Para formular dichas hipótesis se ha realiado un análisis del dataset disponible si se ha asumido lo siguiente:\n",
        "\n",
        "1. Los precios dependen en gran medida de la superficie de la vivienda\n",
        "1. Se debe estudiar más a fondo la localización de la vivienda\n",
        "\n",
        "Además nos hemos planteado las siguientes preguntas:\n",
        "\n",
        "- ¿Mejora la predicción si escalamos la variable objetivo?\n",
        "- ¿Qué es mejor, entrenar con todas las variables o eliminar aquellas que parecen poco representativas?\n",
        "\n",
        "Tras lo anterior se han formulado 6 hipótesis que nos permiten dar respuesta estas preguntas y confirmar o no las afirmaciones que dábamos como ciertas tras analizar el dataset.\n",
        "\n",
        "Se han entrenado 6 modelos de regresión según cada una de las hipótesis planteadas.\n",
        "\n",
        "Tras entrenar estos modelos se ha comparado cuál es más preciso usando el *error cuadrático medio (MSE)*, con lo que hemos podido seleccionar una hipótesis como la mejor.\n",
        "\n",
        "\n",
        "Según el cálculo del error cuadrático medio **los modelos han sido significativamente más precisos al escalar la variable objetivo**."
      ]
    },
    {
      "cell_type": "code",
      "source": [
        "hypot2 = Hypotesis()\n",
        "hypot2.train_model(X=X_hypot2, y=y_hypot2)\n",
        "my_hypotesis[\"Hipótesis 2\"] = hypot2"
      ],
      "metadata": {
        "id": "aLs9v6FO7WaF"
      },
      "id": "aLs9v6FO7WaF",
      "execution_count": null,
      "outputs": []
    },
    {
      "cell_type": "code",
      "execution_count": null,
      "id": "c75dd7d9",
      "metadata": {
        "id": "c75dd7d9"
      },
      "outputs": [],
      "source": [
        "# ¿Són más precisos los modelos que incluyen más variables en el entrenamiento?\n",
        "\n",
        "#best_models = [(n, h.num_features, h.mse_test) for n,h in my_hypotesis.items() if n.endswith(\"b\") ]\n",
        "#df = (\n",
        "#    pd.DataFrame(best_models, columns=[\"Hypotesis\", \"num_features\", \"mse_test\"])\n",
        "#    .set_index(\"Hypotesis\", drop=True)\n",
        "#    .sort_values(\"mse_test\", ascending=False)\n",
        "#)\n",
        "\n",
        "#fig, axes = plt.subplots(nrows=1, ncols=2, figsize=(15,6))\n",
        "#axes[0].set_title(\"Comparación MSE\")\n",
        "#axes[1].set_title(\"Comparación num. variables de entrenamiento\")\n",
        "\n",
        "\n",
        "#df[[\"mse_test\"]].plot(kind=\"barh\", ax=axes[0], color=\"darkgrey\")\n",
        "#df[[\"num_features\"]].plot(kind=\"barh\", ax=axes[1], color=\"darkgrey\")\n",
        "\n",
        "#for ax in axes:\n",
        "#    ax.set_ylabel(\"\")\n",
        "\n",
        "#plt.tight_layout(pad=5.0)"
      ]
    },
    {
      "cell_type": "markdown",
      "id": "7c262801",
      "metadata": {
        "id": "7c262801"
      },
      "source": [
        "A la vista de los gráficos anteriores y del error cuadrático medio parece que **es más importante elegir bien las variables de entrenamiento**.\n",
        "\n",
        "Por una parte podemos observar que en la *Hipótesis 2b* hemos entrenado un modelo con más  variables que en la *Hipótesis 1b* no obstante la precisión del model ha sido considerablemente peor, quizás por un exceso de variables en el modelo que dependían entre ellas (como statezip y city).\n",
        "\n",
        "Error Cuadrático Medio (MSE) HIPO_1_TRAIN =292440344586.52783\n",
        "\n",
        "Error Cuadrático Medio (MSE) HIPO_1b_TRAIN =0.9200853158776038\n",
        "\n",
        "Coeficiente R2 (R2) HIPO_1_TRAIN= 0.18315591252892383\n",
        "\n",
        "\n",
        "Error Cuadrático Medio (MSE) HIPO_2_TRAIN =296832108.93929946\n",
        "\n",
        "Error Cuadrático Medio (MSE) HIPO_2b_TRAIN =0.0009339028276080501\n",
        "\n",
        "Coeficiente R2 (R2) HIPO_2_TRAIN= 0.9991708888405891\n",
        "\n",
        "Error Cuadrático Medio (MSE) HIPO_3_TRAIN =263668377732.80823\n",
        "\n",
        "Error Cuadrático Medio (MSE) HIPO_3b_TRAIN =402537236305.6149\n",
        "\n",
        "Coeficiente R2 (R2) HIPO_3_TRAIN= 0.263521742498806\n",
        "\n",
        "Error Cuadrático Medio (MSE) HIPO_1_TEST =74834240836.61484\n",
        "\n",
        "Error Cuadrático Medio (MSE) HIPO_1b_TEST =0.23544592048663046\n",
        "\n",
        "Error Cuadrático Medio (MSE) HIPO_2_TEST =17522262691131.45\n",
        "\n",
        "Error Cuadrático Medio (MSE) HIPO_2b_TEST =55.12911231812093\n",
        "\n",
        "Error Cuadrático Medio (MSE) HIPO_3_TEST =52423257687.320885\n",
        "\n",
        "Error Cuadrático Medio (MSE) HIPO_3b_TEST =384029249464.58014\n",
        "\n",
        "Coeficiente R2 (R2) HIPO_3_TEST= 0.6659856543849896"
      ]
    },
    {
      "cell_type": "markdown",
      "source": [
        "La hipótesis con menor error cuadrático medio, en el test, ha sido la **hipótesis 2.b** de usar todas las variables numéricas trasformando las variabls categódicas en numéricaicas con el OHE, y escalando de manera standard la variable precio. Mientras que la **hipótesis 1.b**, sólo las variables numéricas ha salido mejor el error cuadrático medio en el test."
      ],
      "metadata": {
        "id": "0lmhkhTC40Yv"
      },
      "id": "0lmhkhTC40Yv"
    },
    {
      "cell_type": "markdown",
      "id": "8cb61ea3",
      "metadata": {
        "id": "8cb61ea3"
      },
      "source": [
        "**¿Cuáles son las variables más significativas?**\n",
        "\n",
        "Para determinar qué variables han sido más significativas en cada uno de los experimentos, vamos a fijarnos en los coeficientes de la regresión. \n",
        "\n",
        "Por ejemplo, para la *Hipótesis 2b* los coeficientes han sido los siguientes:"
      ]
    },
    {
      "cell_type": "code",
      "execution_count": null,
      "id": "024b6c28",
      "metadata": {
        "id": "024b6c28"
      },
      "outputs": [],
      "source": [
        "#coef_h2 = X_hypot2_scastd.coefficients.copy()\n",
        "\n",
        "#def calculate_price_increment(x):\n",
        "#    price = X_hypot2_scastd.scaler.inverse_transform(np.array(x).reshape(-1,1)).reshape(1,-1)[0][0]\n",
        "#    if x < 0:\n",
        "#        price *= -1\n",
        "#    return f\"{price:.2f}\"\n",
        "#    \n",
        "#coef_h2['price_increment'] = coef_h2.slope.apply(calculate_price_increment)\n",
        "#coef_h2.transpose()"
      ]
    },
    {
      "cell_type": "code",
      "execution_count": null,
      "id": "f616abe0",
      "metadata": {
        "id": "f616abe0"
      },
      "outputs": [],
      "source": [
        "# ¿Quáles han sido las variables más significativas en cada uno de los experimentos?\n",
        "\n",
        "#fig, axes = plt.subplots(nrows=2, ncols=2, figsize=(15,6))\n",
        "\n",
        "#coef_list = [(n,h.coefficients, h.mse_test) for n,h in my_hypotesis.items() if n.endswith(\"b\")]\n",
        "#coef_list = sorted(coef_list, key=lambda x: x[2])\n",
        "\n",
        "#for i, t in enumerate(coef_list):\n",
        "#    name, coef, mse_test = t\n",
        "#    color = \"seagreen\" if i==0 else \"steelblue\"\n",
        "#    ax = axes[math.floor(i/2)][i%2]\n",
        "#    ax.set_title(f\"{name} MSE: {mse_test:.4f}\")\n",
        "#    coef = coef.sort_values(\"slope\", ascending=True)\n",
        "#    coef.plot(kind=\"barh\", ax=ax, color=color)\n",
        "    \n",
        "#fig.tight_layout(pad=2.5)"
      ]
    }
  ],
  "metadata": {
    "kernelspec": {
      "display_name": "Python 3 (ipykernel)",
      "language": "python",
      "name": "python3"
    },
    "language_info": {
      "codemirror_mode": {
        "name": "ipython",
        "version": 3
      },
      "file_extension": ".py",
      "mimetype": "text/x-python",
      "name": "python",
      "nbconvert_exporter": "python",
      "pygments_lexer": "ipython3",
      "version": "3.9.6"
    },
    "toc": {
      "base_numbering": 1,
      "nav_menu": {},
      "number_sections": true,
      "sideBar": true,
      "skip_h1_title": false,
      "title_cell": "Table of Contents",
      "title_sidebar": "Contents",
      "toc_cell": false,
      "toc_position": {
        "height": "calc(100% - 180px)",
        "left": "10px",
        "top": "150px",
        "width": "536px"
      },
      "toc_section_display": true,
      "toc_window_display": true
    },
    "colab": {
      "provenance": [],
      "include_colab_link": true
    }
  },
  "nbformat": 4,
  "nbformat_minor": 5
}